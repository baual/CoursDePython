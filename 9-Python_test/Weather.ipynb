{
 "cells": [
  {
   "cell_type": "markdown",
   "metadata": {},
   "source": [
    "For this project, we will utilize Python and a weather reporting service that provides us with an API key to interpret the daily weather conditions of any particular place. One of the few library requirements that we will need for this project is the request module that is available in Python. If you don’t have it already, feel free to install the following module with a simple pip install command and import the library as shown below. This tool will allow us to directly access HTTP links for the required weather API applications.\n"
   ]
  },
  {
   "cell_type": "code",
   "execution_count": null,
   "metadata": {},
   "outputs": [],
   "source": [
    "import requests"
   ]
  },
  {
   "cell_type": "markdown",
   "metadata": {},
   "source": [
    "Now, we will require an API key from a website that stores information about the weather and forecasts them with accurate results. The Open Weather Map website https://openweathermap.org/ provides a scientific yet simplistic approach for utilizing their technology in our Python code to quickly yield the desired results of weather forecasting. To generate your own API key, simply log in to the following website and create an account for totally free. You can either use one of their suggested API keys or generate one of your own. Paste this generated API key in a variable of your choice, as shown below."
   ]
  },
  {
   "cell_type": "code",
   "execution_count": null,
   "metadata": {},
   "outputs": [],
   "source": [
    "API_Key = \"b126aa774f206a7d6317b42da5c5cc6b\""
   ]
  },
  {
   "cell_type": "markdown",
   "metadata": {},
   "source": [
    "Our next step is to allow the user to enter their desired location for which they want to analyze or view the weather conditions. We can perform the following action with an input command allowing the user to type in the required location. Note that you are allowed to type only locations that actually exist. If you mistype the name of the location or of a location that does not exist, you will receive an error message that will be displayed.\n",
    "We will now create a variable that will store the default URL location to the weather access website. For the final URL, we will combine the default path of the open weather map website with the API key that we have previously generated and stored in the API_Key variable. Finally, in the weather data variable, we will use the requests library to get the weather data and store the information accordingly."
   ]
  },
  {
   "cell_type": "code",
   "execution_count": null,
   "metadata": {},
   "outputs": [],
   "source": [
    "location = input(\"Enter Your Desired Location: \")\n",
    "weather_url = f\"http://api.openweathermap.org/data/2.5/weather?q={location}&appid=\"\n",
    "final_url = weather_url + API_Key\n",
    "weather_data = requests.get(final_url).json()"
   ]
  },
  {
   "cell_type": "markdown",
   "metadata": {},
   "source": [
    "Now that we have successfully collected our weather information in the respective variable, we can proceed to display the required data to the user. The following action can be done with the print statement, as shown in the below code snippet."
   ]
  },
  {
   "cell_type": "code",
   "execution_count": null,
   "metadata": {},
   "outputs": [],
   "source": [
    "print(weather_data)"
   ]
  },
  {
   "cell_type": "markdown",
   "metadata": {},
   "source": [
    "You may notice that the information that is displayed from the print statement does not look as pretty as you might have expected it to, as the data collected and displayed are in the raw format. Hence, we can make use of the Data pretty printer module to allow us to print the useful information in a more presentable and readable manner for the user."
   ]
  },
  {
   "cell_type": "code",
   "execution_count": null,
   "metadata": {},
   "outputs": [],
   "source": [
    "from pprint import pprint\n",
    "pprint(weather_data)"
   ]
  },
  {
   "cell_type": "markdown",
   "metadata": {},
   "source": [
    "In the next section of this article, we will look at the complete code for constructing our weather app as well as analyze the numerous improvements and advancements that we can make to this project.\n",
    "\n"
   ]
  },
  {
   "cell_type": "markdown",
   "metadata": {},
   "source": [
    "Final Code and Further Improvements:\n",
    "With the discussion of all of the elementary code snippets from our previous section, we can combine them together to construct our final code block for this project. Feel free to use the following code provided below to experiment with various locations. Below is a result to show the effective working of this project."
   ]
  },
  {
   "cell_type": "code",
   "execution_count": null,
   "metadata": {},
   "outputs": [],
   "source": [
    "import requests\n",
    "from pprint import pprint\n",
    "API_Key = \"b126aa774f206a7d6317b42da5c5cc6b\"\n",
    "location = input(\"Enter Your Desired Location: \")\n",
    "weather_url = f\"http://api.openweathermap.org/data/2.5/weather?q={location}&appid=\"\n",
    "final_url = weather_url + API_Key\n",
    "weather_data = requests.get(final_url).json()\n",
    "pprint(weather_data)"
   ]
  }
 ],
 "metadata": {
  "interpreter": {
   "hash": "b12c16fe729dd3475cd7e1774e7ffab5ff2f3e492d3c2a91f36f1d17f4044eda"
  },
  "kernelspec": {
   "display_name": "Python 3.9.7 64-bit ('base': conda)",
   "language": "python",
   "name": "python3"
  },
  "language_info": {
   "codemirror_mode": {
    "name": "ipython",
    "version": 3
   },
   "file_extension": ".py",
   "mimetype": "text/x-python",
   "name": "python",
   "nbconvert_exporter": "python",
   "pygments_lexer": "ipython3",
   "version": "3.12.1"
  },
  "orig_nbformat": 4
 },
 "nbformat": 4,
 "nbformat_minor": 2
}
