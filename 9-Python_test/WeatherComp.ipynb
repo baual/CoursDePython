{
 "cells": [
  {
   "cell_type": "markdown",
   "metadata": {},
   "source": [
    "donc le but est de trouver la date de la température mini et maxi d'une ville en france depuis ces x dernières années\n"
   ]
  },
  {
   "cell_type": "code",
   "execution_count": 4,
   "metadata": {},
   "outputs": [],
   "source": [
    "import requests"
   ]
  },
  {
   "cell_type": "markdown",
   "metadata": {},
   "source": [
    "Now, we will require an API key from a website that stores information about the weather and forecasts them with accurate results. The Open Weather Map website https://openweathermap.org/ provides a scientific yet simplistic approach for utilizing their technology in our Python code to quickly yield the desired results of weather forecasting. To generate your own API key, simply log in to the following website and create an account for totally free. You can either use one of their suggested API keys or generate one of your own. Paste this generated API key in a variable of your choice, as shown below."
   ]
  },
  {
   "cell_type": "code",
   "execution_count": 3,
   "metadata": {},
   "outputs": [],
   "source": [
    "API_Key = \"b126aa774f206a7d6317b42da5c5cc6b\""
   ]
  },
  {
   "cell_type": "markdown",
   "metadata": {},
   "source": [
    "on commence par trouver les coordonnées de la ville\n",
    "code pays fr = 250\n",
    "limit = nombre de réponses (plusieurs vilels dans le même pays mais on va se limiter à 1)"
   ]
  },
  {
   "cell_type": "code",
   "execution_count": 5,
   "metadata": {},
   "outputs": [],
   "source": [
    "location = input(\"Enter Your Desired Location: \")\n",
    "Code_pays = 250\n",
    "limit=1\n",
    "loc_url = f\"http://api.openweathermap.org/geo/1.0/direct?q={location},,{Code_pays}&limit={limit}&appid={API_Key}\"\n"
   ]
  },
  {
   "cell_type": "markdown",
   "metadata": {},
   "source": [
    "on va récupérer les latitude et longitudes"
   ]
  },
  {
   "cell_type": "code",
   "execution_count": 38,
   "metadata": {},
   "outputs": [],
   "source": [
    "try:\n",
    "    loc_result = requests.get(loc_url)\n",
    "    loc_data=loc_result.json()\n",
    "except requests.exceptions as error:\n",
    "    print(error)\n",
    "    # This code will run if there is an error."
   ]
  },
  {
   "cell_type": "code",
   "execution_count": 43,
   "metadata": {},
   "outputs": [
    {
     "name": "stdout",
     "output_type": "stream",
     "text": [
      "{'country': 'FR',\n",
      " 'lat': 43.6044622,\n",
      " 'local_names': {'am': 'ቱሉዝ',\n",
      "                 'ar': 'تولوز',\n",
      "                 'az': 'Tuluza',\n",
      "                 'be': 'Тулюза',\n",
      "                 'bg': 'Тулуза',\n",
      "                 'bo': 'ཊོའུ་ལོའུ་སེ།',\n",
      "                 'br': 'Toloza',\n",
      "                 'ca': 'Tolosa de Llenguadoc',\n",
      "                 'ce': 'Тулуза',\n",
      "                 'co': 'Tolosa',\n",
      "                 'de': 'Toulouse',\n",
      "                 'el': 'Τουλούζη',\n",
      "                 'en': 'Toulouse',\n",
      "                 'eo': 'Tuluzo',\n",
      "                 'es': 'Toulouse',\n",
      "                 'eu': 'Tolosa Okzitania',\n",
      "                 'fa': 'تولوز',\n",
      "                 'fr': 'Toulouse',\n",
      "                 'gl': 'Tolosa',\n",
      "                 'he': 'טולוז',\n",
      "                 'hi': 'तुलूज़',\n",
      "                 'hu': 'Toulouse',\n",
      "                 'hy': 'Թուլուզ',\n",
      "                 'it': 'Tolosa',\n",
      "                 'ja': 'トゥールーズ',\n",
      "                 'ka': 'ტულუზა',\n",
      "                 'kk': 'Тулуза',\n",
      "                 'kn': 'ತೂಲೂಸ್',\n",
      "                 'ko': '툴루즈',\n",
      "                 'la': 'Tolosa',\n",
      "                 'lt': 'Tulūza',\n",
      "                 'lv': 'Tulūza',\n",
      "                 'mk': 'Тулуза',\n",
      "                 'ml': 'ടൂളൂസ്',\n",
      "                 'mr': 'तुलूझ',\n",
      "                 'oc': 'Tolosa',\n",
      "                 'os': 'Тулузæ',\n",
      "                 'pa': 'ਟੁਲੂਜ਼',\n",
      "                 'pl': 'Tuluza',\n",
      "                 'ru': 'Тулуза',\n",
      "                 'sc': 'Tolosa',\n",
      "                 'sr': 'Тулуза',\n",
      "                 'ta': 'துலூஸ்',\n",
      "                 'th': 'ตูลูซ',\n",
      "                 'tt': 'Тулуза',\n",
      "                 'uk': 'Тулуза',\n",
      "                 'ur': 'تولوز',\n",
      "                 'yi': 'טולוז',\n",
      "                 'zh': '图卢兹'},\n",
      " 'lon': 1.4442469,\n",
      " 'name': 'Toulouse',\n",
      " 'state': 'Occitania'}\n"
     ]
    }
   ],
   "source": [
    "# quelle tête cela a-t-il ?\n",
    "from pprint import pprint\n",
    "pprint(loc_data[0])"
   ]
  },
  {
   "cell_type": "code",
   "execution_count": 48,
   "metadata": {},
   "outputs": [
    {
     "name": "stdout",
     "output_type": "stream",
     "text": [
      "<class 'list'>\n",
      "latitude:43.6044622 / longitude:1.4442469\n"
     ]
    }
   ],
   "source": [
    "#print(type(loc_data))\n",
    "\n",
    "# loc data est une liste  !!! PAS un json  donc en-deeosus cela ne marche pas\n",
    "#import json\n",
    "#Coordinates = json.load(loc_data)\n",
    "#Town_Lat=Coordinates.get(\"lat\")\n",
    "#Town_Lon=Coordinates.get(\"lon\")\n",
    "\n",
    "Coordinates = loc_data[0] # loc data est une liste donc on \"extrait\" le premier élément  !!! PAS un json \n",
    "Town_Lat=Coordinates.get('lat')\n",
    "Town_Lon=Coordinates.get('lon')\n",
    "\n",
    "#print(f\"latitude:{Town_Lat} / longitude:{Town_Lon}\")\n",
    "\n"
   ]
  },
  {
   "cell_type": "markdown",
   "metadata": {},
   "source": [
    "stop du projet. le nombre d'appels de l'api par joue est trop limoté en mode gratuit. Je dois trouver uen autre solution :-"
   ]
  }
 ],
 "metadata": {
  "interpreter": {
   "hash": "b12c16fe729dd3475cd7e1774e7ffab5ff2f3e492d3c2a91f36f1d17f4044eda"
  },
  "kernelspec": {
   "display_name": "Python 3.9.7 64-bit ('base': conda)",
   "language": "python",
   "name": "python3"
  },
  "language_info": {
   "codemirror_mode": {
    "name": "ipython",
    "version": 3
   },
   "file_extension": ".py",
   "mimetype": "text/x-python",
   "name": "python",
   "nbconvert_exporter": "python",
   "pygments_lexer": "ipython3",
   "version": "3.12.3"
  },
  "orig_nbformat": 4
 },
 "nbformat": 4,
 "nbformat_minor": 2
}
