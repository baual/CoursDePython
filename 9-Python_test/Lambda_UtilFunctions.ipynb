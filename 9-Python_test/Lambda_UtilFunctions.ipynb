{
 "cells": [
  {
   "cell_type": "markdown",
   "metadata": {},
   "source": [
    "### Markdown\n",
    "\n",
    "```markdown\n",
    "# Fonctions Lambda en Python\n",
    "\n",
    "## Explication simple et concrète\n",
    "\n",
    "Les fonctions lambda en Python sont des fonctions anonymes, c'est-à-dire des fonctions sans nom. Elles sont souvent utilisées pour des opérations simples et rapides.\n",
    "\n",
    "### Syntaxe de base\n",
    "```python\n",
    "lambda arguments: expression\n",
    "```\n",
    "\n",
    "### Exemple concret\n",
    "Imaginons que tu veuilles créer une fonction qui multiplie un nombre par 2. Avec une fonction lambda, cela donnerait :\n",
    "\n",
    "```python\n",
    "multiplier_par_2 = lambda x: x * 2\n",
    "print(multiplier_par_2(5))  # Affiche 10\n",
    "```\n",
    "\n",
    "### Utilisation courante\n",
    "Les fonctions lambda sont souvent utilisées avec des fonctions comme `map()`, `filter()`, et `sorted()`. Par exemple, pour trier une liste de tuples en fonction du deuxième élément :\n",
    "\n",
    "```python\n",
    "liste = [(1, 2), (3, 1), (5, 4)]\n",
    "liste_triee = sorted(liste, key=lambda x: x[1])\n",
    "print(liste_triee)  # Affiche [(3, 1), (1, 2), (5, 4)]\n",
    "```\n",
    "\n",
    "## Autre exemple avec `filter()`\n",
    "Supposons que tu aies une liste de nombres et que tu veuilles filtrer uniquement les nombres pairs. Tu peux utiliser une fonction lambda avec `filter()` pour y parvenir :\n",
    "\n",
    "```python\n",
    "nombres = [1, 2, 3, 4, 5, 6, 7, 8, 9, 10]\n",
    "nombres_pairs = list(filter(lambda x: x % 2 == 0, nombres))\n",
    "print(nombres_pairs)  # Affiche [2, 4, 6, 8, 10]\n",
    "```\n",
    "\n",
    "## Utilisation de lambda avec `map()`\n",
    "Supposons que tu veuilles ajouter 3 à chaque élément d'une liste de nombres. Tu peux utiliser une fonction lambda avec `map()` pour y parvenir :\n",
    "\n",
    "```python\n",
    "nombres = [1, 2, 3, 4, 5]\n",
    "nombres_ajoutes = list(map(lambda x: x + 3, nombres))\n",
    "print(nombres_ajoutes)  # Affiche [4, 5, 6, 7, 8]\n",
    "```\n",
    "\n",
    "### Autre exemple avec `map()`\n",
    "Imaginons maintenant que tu veuilles convertir une liste de chaînes de caractères en majuscules :\n",
    "\n",
    "```python\n",
    "mots = [\"bonjour\", \"le\", \"monde\"]\n",
    "mots_majuscules = list(map(lambda x: x.upper(), mots))\n",
    "print(mots_majuscules)  # Affiche ['BONJOUR', 'LE', 'MONDE']\n",
    "```\n",
    "\n",
    "## Fonctions similaires à `map()` en Python\n",
    "\n",
    "### 1. `filter()`\n",
    "La fonction `filter()` applique une fonction à chaque élément d'un itérable et retourne un itérable contenant uniquement les éléments pour lesquels la fonction retourne `True`.\n",
    "\n",
    "**Exemple :**\n",
    "```python\n",
    "nombres = [1, 2, 3, 4, 5, 6]\n",
    "nombres_pairs = list(filter(lambda x: x % 2 == 0, nombres))\n",
    "print(nombres_pairs)  # Affiche [2, 4, 6]\n",
    "```\n",
    "\n",
    "### 2. `reduce()`\n",
    "La fonction `reduce()` (disponible dans le module `functools`) applique une fonction de manière cumulative à tous les éléments d'un itérable, de gauche à droite, pour réduire l'itérable à une seule valeur.\n",
    "\n",
    "**Exemple :**\n",
    "```python\n",
    "from functools import reduce\n",
    "\n",
    "nombres = [1, 2, 3, 4, 5]\n",
    "somme = reduce(lambda x, y: x + y, nombres)\n",
    "print(somme)  # Affiche 15\n",
    "```\n",
    "\n",
    "### 3. `list comprehensions`\n",
    "Les compréhensions de liste sont une manière concise de créer des listes en appliquant une expression à chaque élément d'un itérable.\n",
    "\n",
    "**Exemple :**\n",
    "```python\n",
    "nombres = [1, 2, 3, 4, 5]\n",
    "nombres_carres = [x**2 for x in nombres]\n",
    "print(nombres_carres)  # Affiche [1, 4, 9, 16, 25]\n",
    "```\n",
    "\n",
    "### 4. `zip()`\n",
    "La fonction `zip()` combine plusieurs itérables en un seul itérable de tuples.\n",
    "\n",
    "**Exemple :**\n",
    "```python\n",
    "liste1 = [1, 2, 3]\n",
    "liste2 = ['a', 'b', 'c']\n",
    "combine = list(zip(liste1, liste2))\n",
    "print(combine)  # Affiche [(1, 'a'), (2, 'b'), (3, 'c')]\n",
    "```\n",
    "```"
   ]
  },
  {
   "cell_type": "code",
   "execution_count": 3,
   "metadata": {},
   "outputs": [
    {
     "data": {
      "text/plain": [
       "<function __main__.<lambda>(arguments)>"
      ]
     },
     "execution_count": 3,
     "metadata": {},
     "output_type": "execute_result"
    }
   ],
   "source": [
    "# Fonctions Lambda en Python\n",
    "\n",
    "## Explication simple et concrète\n",
    "\n",
    "# Les fonctions lambda en Python sont des fonctions anonymes, c'est-à-dire des fonctions sans nom. Elles sont souvent utilisées pour des opérations simples et rapides.\n",
    "\n",
    "# Syntaxe de base\n",
    "lambda arguments: expression"
   ]
  },
  {
   "cell_type": "code",
   "execution_count": 4,
   "metadata": {},
   "outputs": [
    {
     "name": "stdout",
     "output_type": "stream",
     "text": [
      "10\n"
     ]
    }
   ],
   "source": [
    "# Exemple concret\n",
    "# Imaginons que tu veuilles créer une fonction qui multiplie un nombre par 2. Avec une fonction lambda, cela donnerait :\n",
    "\n",
    "multiplier_par_2 = lambda x: x * 2\n",
    "print(multiplier_par_2(5))  # Affiche 10"
   ]
  },
  {
   "cell_type": "code",
   "execution_count": 5,
   "metadata": {},
   "outputs": [
    {
     "name": "stdout",
     "output_type": "stream",
     "text": [
      "[(3, 1), (1, 2), (5, 4)]\n"
     ]
    }
   ],
   "source": [
    "# Utilisation courante\n",
    "# Les fonctions lambda sont souvent utilisées avec des fonctions comme `map()`, `filter()`, et `sorted()`. Par exemple, pour trier une liste de tuples en fonction du deuxième élément :\n",
    "\n",
    "liste = [(1, 2), (3, 1), (5, 4)]\n",
    "liste_triee = sorted(liste, key=lambda x: x[1])\n",
    "print(liste_triee)  # Affiche [(3, 1), (1, 2), (5, 4)]"
   ]
  },
  {
   "cell_type": "code",
   "execution_count": 6,
   "metadata": {},
   "outputs": [
    {
     "name": "stdout",
     "output_type": "stream",
     "text": [
      "[2, 4, 6, 8, 10]\n"
     ]
    }
   ],
   "source": [
    "## Autre exemple avec `filter()`\n",
    "# Supposons que tu aies une liste de nombres et que tu veuilles filtrer uniquement les nombres pairs. Tu peux utiliser une fonction lambda avec `filter()` pour y parvenir :\n",
    "\n",
    "nombres = [1, 2, 3, 4, 5, 6, 7, 8, 9, 10]\n",
    "nombres_pairs = list(filter(lambda x: x % 2 == 0, nombres))\n",
    "print(nombres_pairs)  # Affiche [2, 4, 6, 8, 10]"
   ]
  },
  {
   "cell_type": "code",
   "execution_count": 7,
   "metadata": {},
   "outputs": [
    {
     "name": "stdout",
     "output_type": "stream",
     "text": [
      "[4, 5, 6, 7, 8]\n"
     ]
    }
   ],
   "source": [
    "## Utilisation de lambda avec `map()`\n",
    "# Supposons que tu veuilles ajouter 3 à chaque élément d'une liste de nombres. Tu peux utiliser une fonction lambda avec `map()` pour y parvenir :\n",
    "\n",
    "nombres = [1, 2, 3, 4, 5]\n",
    "nombres_ajoutes = list(map(lambda x: x + 3, nombres))\n",
    "print(nombres_ajoutes)  # Affiche [4, 5, 6, 7, 8]"
   ]
  },
  {
   "cell_type": "code",
   "execution_count": 8,
   "metadata": {},
   "outputs": [
    {
     "name": "stdout",
     "output_type": "stream",
     "text": [
      "['BONJOUR', 'LE', 'MONDE']\n"
     ]
    }
   ],
   "source": [
    "# Autre exemple avec `map()`\n",
    "# Imaginons maintenant que tu veuilles convertir une liste de chaînes de caractères en majuscules :\n",
    "\n",
    "mots = [\"bonjour\", \"le\", \"monde\"]\n",
    "mots_majuscules = list(map(lambda x: x.upper(), mots))\n",
    "print(mots_majuscules)  # Affiche ['BONJOUR', 'LE', 'MONDE']"
   ]
  },
  {
   "cell_type": "code",
   "execution_count": 9,
   "metadata": {},
   "outputs": [
    {
     "name": "stdout",
     "output_type": "stream",
     "text": [
      "[2, 4, 6]\n"
     ]
    }
   ],
   "source": [
    "## Fonctions similaires à `map()` en Python\n",
    "\n",
    "# 1. `filter()`\n",
    "# La fonction `filter()` applique une fonction à chaque élément d'un itérable et retourne un itérable contenant uniquement les éléments pour lesquels la fonction retourne `True`.\n",
    "\n",
    "# Exemple :\n",
    "nombres = [1, 2, 3, 4, 5, 6]\n",
    "nombres_pairs = list(filter(lambda x: x % 2 == 0, nombres))\n",
    "print(nombres_pairs)  # Affiche [2, 4, 6]"
   ]
  },
  {
   "cell_type": "code",
   "execution_count": 13,
   "metadata": {},
   "outputs": [
    {
     "name": "stdout",
     "output_type": "stream",
     "text": [
      "15\n",
      "[1, 2, 3, 4, 5]\n"
     ]
    }
   ],
   "source": [
    "# 2. `reduce()`\n",
    "# La fonction `reduce()` (disponible dans le module `functools`) applique une fonction de manière cumulative à tous les éléments d'un itérable, de gauche à droite, pour réduire l'itérable à une seule valeur.\n",
    "\n",
    "# Exemple :\n",
    "from functools import reduce\n",
    "\n",
    "nombres = [1, 2, 3, 4, 5]\n",
    "somme = reduce(lambda x, y: x + y, nombres)\n",
    "print(somme)  # Affiche 15\n",
    "print(nombres)"
   ]
  },
  {
   "cell_type": "code",
   "execution_count": 12,
   "metadata": {},
   "outputs": [
    {
     "name": "stdout",
     "output_type": "stream",
     "text": [
      "[1, 4, 9, 16, 25]\n"
     ]
    }
   ],
   "source": [
    "# 3. `list comprehensions`\n",
    "# Les compréhensions de liste sont une manière concise de créer des listes en appliquant une expression à chaque élément d'un itérable.\n",
    "\n",
    "# Exemple :\n",
    "nombres = [1, 2, 3, 4, 5]\n",
    "nombres_carres = [x**2 for x in nombres]\n",
    "print(nombres_carres)  # Affiche [1, 4, 9, 16, 25]"
   ]
  },
  {
   "cell_type": "code",
   "execution_count": 11,
   "metadata": {},
   "outputs": [
    {
     "name": "stdout",
     "output_type": "stream",
     "text": [
      "[(1, 'a'), (2, 'b'), (3, 'c')]\n"
     ]
    }
   ],
   "source": [
    "# 4. `zip()`\n",
    "# La fonction `zip()` combine plusieurs itérables en un seul itérable de tuples.\n",
    "\n",
    "# Exemple :\n",
    "liste1 = [1, 2, 3]\n",
    "liste2 = ['a', 'b', 'c']\n",
    "combine = list(zip(liste1, liste2))\n",
    "print(combine)  # Affiche [(1, 'a'), (2, 'b'), (3, 'c')]\n"
   ]
  }
 ],
 "metadata": {
  "kernelspec": {
   "display_name": "Python 3",
   "language": "python",
   "name": "python3"
  },
  "language_info": {
   "codemirror_mode": {
    "name": "ipython",
    "version": 3
   },
   "file_extension": ".py",
   "mimetype": "text/x-python",
   "name": "python",
   "nbconvert_exporter": "python",
   "pygments_lexer": "ipython3",
   "version": "3.13.2"
  }
 },
 "nbformat": 4,
 "nbformat_minor": 2
}
