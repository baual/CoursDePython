{
 "metadata": {
  "language_info": {
   "codemirror_mode": {
    "name": "ipython",
    "version": 3
   },
   "file_extension": ".py",
   "mimetype": "text/x-python",
   "name": "python",
   "nbconvert_exporter": "python",
   "pygments_lexer": "ipython3",
   "version": "3.7.9-final"
  },
  "orig_nbformat": 2,
  "kernelspec": {
   "name": "Python 3.7.9 64-bit ('myenv': conda)",
   "display_name": "Python 3.7.9 64-bit ('myenv': conda)",
   "metadata": {
    "interpreter": {
     "hash": "afbc5c225ca83cdaa757117cad19c1853a4d83de9469aa47f0313fe7bc8c10de"
    }
   }
  }
 },
 "nbformat": 4,
 "nbformat_minor": 2,
 "cells": [
  {
   "cell_type": "code",
   "execution_count": null,
   "metadata": {},
   "outputs": [],
   "source": [
    "#video series https://aka.ms/LearnWithDrG?azure-portal=true\n",
    "\n",
    "\n",
    "import pandas\n",
    "\n",
    "rock_samples = pandas.read_csv('data/rocksamples.csv')\n"
   ]
  },
  {
   "source": [],
   "cell_type": "markdown",
   "metadata": {}
  },
  {
   "cell_type": "code",
   "execution_count": null,
   "metadata": {},
   "outputs": [],
   "source": [
    "rock_samples.head()"
   ]
  },
  {
   "cell_type": "code",
   "execution_count": null,
   "metadata": {},
   "outputs": [],
   "source": [
    "rock_samples.info()"
   ]
  },
  {
   "cell_type": "code",
   "execution_count": null,
   "metadata": {},
   "outputs": [],
   "source": [
    "rock_samples['Weight(g)'] = rock_samples['Weight(g)'].apply(lambda x : x * 0.001)\n",
    "rock_samples.rename(columns={'Weight(g)':'Weight(kg)'}, inplace=True)\n",
    "rock_samples.head()"
   ]
  },
  {
   "cell_type": "code",
   "execution_count": null,
   "metadata": {},
   "outputs": [],
   "source": [
    "missions = pandas.DataFrame()\n",
    "missions['Mission']=rock_samples['Mission'].unique()\n",
    "missions.head()"
   ]
  },
  {
   "cell_type": "code",
   "execution_count": null,
   "metadata": {},
   "outputs": [],
   "source": [
    "missions.info()"
   ]
  },
  {
   "cell_type": "code",
   "execution_count": null,
   "metadata": {},
   "outputs": [],
   "source": [
    "missions"
   ]
  },
  {
   "cell_type": "code",
   "execution_count": null,
   "metadata": {},
   "outputs": [],
   "source": [
    "sample_total_weight = rock_samples.groupby('Mission')['Weight(kg)'].sum()\n",
    "missions = pandas.merge(missions,sample_total_weight,on='Mission')\n",
    "missions.rename(columns={'Weight(kg)':'Sample Weight(kg)'},inplace=True)\n",
    "missions"
   ]
  },
  {
   "cell_type": "code",
   "execution_count": null,
   "metadata": {},
   "outputs": [],
   "source": [
    "#get sample weight difference between the mission line and the one above\n",
    "missions['Weight Diff']=missions['Sample Weight(kg)'].diff()\n",
    "missions\n",
    "#NaN means not a number : due to no previous mission"
   ]
  },
  {
   "cell_type": "code",
   "execution_count": null,
   "metadata": {},
   "outputs": [],
   "source": [
    "#replacing NaN by 0\n",
    "missions['Weight Diff']=missions['Weight Diff'].fillna(value=0)\n",
    "missions"
   ]
  },
  {
   "cell_type": "code",
   "execution_count": null,
   "metadata": {},
   "outputs": [],
   "source": [
    "#from this : https://nssdc.gsfc.nasa.gov/nmc/SpacecraftQuery.jsp\n",
    "\n",
    "missions['Lunar Module (LM)'] = {'Eagle (LM-5)', 'Intrepid (LM-6)', 'Antares (LM-8)', 'Falcon (LM-10)', 'Orion (LM-11)', 'Challenger (LM-12)'}\n",
    "missions['LM Mass (kg)'] = {15103, 15235, 15264, 16430, 16445, 16456}\n",
    "missions['LM Mass Diff'] = missions['LM Mass (kg)'].diff()\n",
    "missions['LM Mass Diff'] = missions['LM Mass Diff'].fillna(value=0)\n",
    "\n",
    "missions['Command Module (CM)'] = {'Columbia (CSM-107)', 'Yankee Clipper (CM-108)', 'Kitty Hawk (CM-110)', 'Endeavor (CM-112)', 'Casper (CM-113)', 'America (CM-114)'}\n",
    "missions['CM Mass (kg)'] = {5560, 5609, 5758, 5875, 5840, 5960}\n",
    "missions['CM Mass Diff'] = missions['CM Mass (kg)'].diff()\n",
    "missions['CM Mass Diff'] = missions['CM Mass Diff'].fillna(value=0)\n",
    "\n",
    "missions"
   ]
  },
  {
   "cell_type": "code",
   "execution_count": null,
   "metadata": {},
   "outputs": [],
   "source": [
    "missions['Total Weight (kg)'] = missions['LM Mass (kg)'] + missions['CM Mass (kg)']\n",
    "missions['Total Weight Diff'] = missions['LM Mass Diff'] + missions['CM Mass Diff']\n",
    "missions"
   ]
  },
  {
   "cell_type": "code",
   "execution_count": null,
   "metadata": {},
   "outputs": [],
   "source": [
    "# Sample-to-weight ratio\n",
    "saturnVPayload = 43500\n",
    "missions['Crewed Area : Payload'] = missions['Total Weight (kg)'] / saturnVPayload\n",
    "missions['Sample : Crewed Area'] = missions['Sample Weight(kg)'] / missions['Total Weight (kg)']\n",
    "missions['Sample : Payload'] = missions['Sample Weight(kg)'] / saturnVPayload\n",
    "missions"
   ]
  },
  {
   "cell_type": "code",
   "execution_count": null,
   "metadata": {},
   "outputs": [],
   "source": [
    "# Save the ratios\n",
    "# We can then use the mean() function to take the average of all those ratios across all the missions.\n",
    "crewedArea_payload_ratio = missions['Crewed Area : Payload'].mean()\n",
    "sample_crewedArea_ratio = missions['Sample : Crewed Area'].mean()\n",
    "sample_payload_ratio = missions['Sample : Payload'].mean()\n",
    "print(crewedArea_payload_ratio)\n",
    "print(sample_crewedArea_ratio)\n",
    "print(sample_payload_ratio)"
   ]
  },
  {
   "cell_type": "code",
   "execution_count": null,
   "metadata": {},
   "outputs": [],
   "source": [
    "# Creating an Artemis mission dataframe\n",
    "artemis_crewedArea = 26520\n",
    "artemis_mission = pandas.DataFrame({'Mission':['artemis1','artemis1b','artemis2'],\n",
    "                                 'Total Weight (kg)':[artemis_crewedArea,artemis_crewedArea,artemis_crewedArea],\n",
    "                                 'Payload (kg)':[26988, 37965, 42955]})\n",
    "artemis_mission"
   ]
  },
  {
   "cell_type": "code",
   "execution_count": null,
   "metadata": {},
   "outputs": [],
   "source": [
    "# And we can estimate the weight of samples based on the ratios we determined from the Artemis missions:\n",
    "artemis_mission['Sample Weight from Total (kg)'] = artemis_mission['Total Weight (kg)'] * sample_crewedArea_ratio\n",
    "artemis_mission['Sample Weight from Payload (kg)'] = artemis_mission['Payload (kg)'] * sample_payload_ratio\n",
    "artemis_mission"
   ]
  },
  {
   "cell_type": "code",
   "execution_count": null,
   "metadata": {},
   "outputs": [],
   "source": [
    "# Finally, we can get the average of the two predictions:\n",
    "artemis_mission['Estimated Sample Weight (kg)'] = (artemis_mission['Sample Weight from Payload (kg)'] + artemis_mission['Sample Weight from Total (kg)'])/2\n",
    "artemis_mission"
   ]
  },
  {
   "cell_type": "code",
   "execution_count": null,
   "metadata": {},
   "outputs": [],
   "source": [
    "# Prioritize Moon rock sample gathering based on data\n",
    "# First, we can determine how much remains of each sample that was returned from the Apollo missions, given the amount that was originally collected and the percentage of remaining pristine sample\n",
    "rock_samples['Remaining(kg)'] = rock_samples['Weight(kg)'] * (rock_samples['Pristine(%)'] * .01)\n",
    "rock_samples.head()\n"
   ]
  },
  {
   "cell_type": "code",
   "execution_count": null,
   "metadata": {},
   "outputs": [],
   "source": [
    "# it's difficult to get an understanding of what the values are. For that, you can use the describe() function:\n",
    "rock_samples.describe()\n",
    "# This helps us see that, on average, each sample weighs about .16 kg and has about 84% of the original amount remaining. We can use this knowledge to extract only the samples that are likely running low, which means that they have been used a lot by researchers.\n"
   ]
  },
  {
   "cell_type": "code",
   "execution_count": null,
   "metadata": {},
   "outputs": [],
   "source": [
    "# We can use this knowledge to extract only the samples that are likely running low, which means that they have been used a lot by researchers.\n",
    "low_samples = rock_samples.loc[(rock_samples['Weight(kg)'] >= .16) & (rock_samples['Pristine(%)'] <= 50)]\n",
    "low_samples.head()"
   ]
  },
  {
   "cell_type": "code",
   "execution_count": null,
   "metadata": {},
   "outputs": [],
   "source": [
    "low_samples.info()"
   ]
  },
  {
   "cell_type": "code",
   "execution_count": null,
   "metadata": {},
   "outputs": [],
   "source": [
    "#Twenty-seven samples seems like a small amount to base a recommendation on. We can probably find some other samples that are needed for more research here on Earth. To discover them, we can use the unique() function to see how many unique types we have across the low_samples and rock_samples dataframes.\n",
    "low_samples.Type.unique()\n"
   ]
  },
  {
   "cell_type": "code",
   "execution_count": null,
   "metadata": {},
   "outputs": [],
   "source": [
    "rock_samples.Type.unique()"
   ]
  },
  {
   "cell_type": "code",
   "execution_count": null,
   "metadata": {},
   "outputs": [],
   "source": [
    "low_samples.groupby('Type')['Weight(kg)'].count()"
   ]
  },
  {
   "cell_type": "code",
   "execution_count": null,
   "metadata": {},
   "outputs": [],
   "source": [
    "# Notice that there are more Basalt and Breccia type rocks with low samples than those of Core and Soil. Additionally, because the likelihood is high that every mission has some Core and Soil collection requirements, we can focus on the Basalt and Breccia rock types for the samples that we need to have collected:\n",
    "needed_samples = low_samples[low_samples['Type'].isin(['Basalt', 'Breccia'])]\n",
    "needed_samples.info()"
   ]
  },
  {
   "cell_type": "code",
   "execution_count": null,
   "metadata": {},
   "outputs": [],
   "source": [
    "# Develop a recommendation of Moon rock samples to be collected\n",
    "\n",
    "# Let's take a step back and see how the number of samples compares to the amount of sample. We can compare the total weight from the needed_samples dataframe to the rock_samples dataframe. That is, we'll compare the samples we've identified as running low to all the samples collected on Apollo missions\n",
    "needed_samples.groupby('Type')['Weight(kg)'].sum()"
   ]
  },
  {
   "cell_type": "code",
   "execution_count": null,
   "metadata": {},
   "outputs": [],
   "source": [
    "rock_samples.groupby('Type')['Weight(kg)'].sum()"
   ]
  },
  {
   "cell_type": "code",
   "execution_count": null,
   "metadata": {},
   "outputs": [],
   "source": [
    "# One bit of information really stands out: we've never had a lot of Crustal rocks in the first place.\n",
    "\n",
    "#We can add Crustal rocks to the set of needed samples:\n",
    "\n",
    "needed_samples = needed_samples.append(rock_samples.loc[rock_samples['Type'] == 'Crustal'])\n",
    "needed_samples.info()"
   ]
  },
  {
   "cell_type": "code",
   "execution_count": null,
   "metadata": {},
   "outputs": [],
   "source": [
    "\n",
    "\n",
    "\n",
    "\n",
    "\n",
    "# Summary of needed samples\n",
    "\n",
    "\n",
    "# The final step is to consolidate everything we know into one table that can be shared with the astronauts. First, we need a column for each type of rock that we have already identified as rocks we want more samples of:\n",
    "needed_samples_overview = pandas.DataFrame()\n",
    "needed_samples_overview['Type'] = needed_samples.Type.unique()\n",
    "needed_samples_overview"
   ]
  },
  {
   "cell_type": "code",
   "execution_count": null,
   "metadata": {},
   "outputs": [],
   "source": [
    "# Next, we want the total weight of each type of rock that was originally collected:\n",
    "needed_sample_weights = needed_samples.groupby('Type')['Weight(kg)'].sum().reset_index()\n",
    "needed_samples_overview = pandas.merge(needed_samples_overview, needed_sample_weights, on='Type')\n",
    "needed_samples_overview.rename(columns={'Weight(kg)':'Total Weight(kg)'}, inplace=True)\n",
    "needed_samples_overview"
   ]
  },
  {
   "cell_type": "code",
   "execution_count": null,
   "metadata": {},
   "outputs": [],
   "source": [
    "# When astronauts are up on the Moon, one way they can identify rocks is by their size. If we can give them an estimated size of each type of rock, that might make their collection process easier\n",
    "needed_sample_ave_weights = needed_samples.groupby('Type')['Weight(kg)'].mean().reset_index()\n",
    "needed_samples_overview = pandas.merge(needed_samples_overview, needed_sample_ave_weights, on='Type')\n",
    "needed_samples_overview.rename(columns={'Weight(kg)':'Ave Weight(kg)'}, inplace=True)\n",
    "needed_samples_overview"
   ]
  },
  {
   "cell_type": "code",
   "execution_count": null,
   "metadata": {},
   "outputs": [],
   "source": [
    "# Crustals are small! They're probably a lot harder to spot, so no wonder we don't have a lot of them.\n",
    "\n",
    "#We probably want to give the astronauts some indication of how many of each type we want them to collect. So, for the three types we're looking for, we should grab the total number we have of each type and get the remaining percentage of each type of rock\n",
    "total_rock_count = rock_samples.groupby('Type')['ID'].count().reset_index()\n",
    "needed_samples_overview = pandas.merge(needed_samples_overview, total_rock_count, on='Type')\n",
    "needed_samples_overview.rename(columns={'ID':'Number of Samples'}, inplace=True)\n",
    "total_rocks = needed_samples_overview['Number of Samples'].sum()\n",
    "needed_samples_overview['Percentage of Rocks'] = needed_samples_overview['Number of Samples'] / total_rocks\n",
    "needed_samples_overview"
   ]
  },
  {
   "cell_type": "code",
   "execution_count": null,
   "metadata": {},
   "outputs": [],
   "source": [
    "# And finally, to tie it all back into a recommendation to the Artemis program, we can determine the average weight of samples we estimated in the preceding unit.\n",
    "artemis_ave_weight = artemis_mission['Estimated Sample Weight (kg)'].mean()\n",
    "artemis_ave_weight"
   ]
  },
  {
   "cell_type": "code",
   "execution_count": null,
   "metadata": {},
   "outputs": [],
   "source": [
    "# We can use this number to determine how many of each rock we want the astronauts to aim to collect:\n",
    "needed_samples_overview['Weight to Collect'] = needed_samples_overview['Percentage of Rocks'] * artemis_ave_weight\n",
    "\n",
    "needed_samples_overview['Rocks to Collect'] = needed_samples_overview['Weight to Collect'] / needed_samples_overview['Ave Weight(kg)']\n",
    "\n",
    "needed_samples_overview"
   ]
  },
  {
   "cell_type": "code",
   "execution_count": null,
   "metadata": {},
   "outputs": [],
   "source": [
    "# sample total weight\n",
    "sample_total_weight = rock_samples['Weight(kg)'].sum()\n",
    "sample_total_weight "
   ]
  },
  {
   "cell_type": "code",
   "execution_count": null,
   "metadata": {},
   "outputs": [],
   "source": []
  }
 ]
}