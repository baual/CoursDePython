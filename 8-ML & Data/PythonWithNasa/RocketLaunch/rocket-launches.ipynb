{
 "metadata": {
  "language_info": {
   "codemirror_mode": {
    "name": "ipython",
    "version": 3
   },
   "file_extension": ".py",
   "mimetype": "text/x-python",
   "name": "python",
   "nbconvert_exporter": "python",
   "pygments_lexer": "ipython3",
   "version": "3.9.4"
  },
  "orig_nbformat": 2,
  "kernelspec": {
   "name": "python392jvsc74a57bd0664550b918e669b189e79c6fcf356c08dd1ee25478e77016cbd798931c4b093e",
   "display_name": "Python 3.9.4 64-bit ('DataScience': conda)"
  },
  "metadata": {
   "interpreter": {
    "hash": "664550b918e669b189e79c6fcf356c08dd1ee25478e77016cbd798931c4b093e"
   }
  }
 },
 "nbformat": 4,
 "nbformat_minor": 2,
 "cells": [
  {
   "cell_type": "code",
   "execution_count": 1,
   "metadata": {},
   "outputs": [],
   "source": [
    "# installation des packages\n",
    "# pandas numpy jupyter seaborn scikit-learn pydotplus\n",
    "\n",
    "# azure_ml pas besoin sur ce cours\n",
    "# pip install --upgrade azureml-sdk\n",
    "\n",
    "# install xlrd package gère que xls\n",
    "# pip install xlrd\n",
    "\n",
    "# install openpyxl package pour gérer xlsx\n",
    "# pip install openpyxl\n",
    "\n",
    "#lié à pydotplus : graphviz = https://graphviz.org/download/\n",
    "# linux : sudo apt-get install graphviz\n",
    "# mac : brew install graphviz\n"
   ]
  },
  {
   "cell_type": "code",
   "execution_count": 2,
   "metadata": {},
   "outputs": [],
   "source": [
    "# Importer des bibliothèques\n",
    "# Une fois votre environnement local Visual Studio Code configuré, vous pouvez désormais importer les bibliothèques. Elles nous aideront à # importer et à nettoyer les données météorologiques, ainsi qu’à créer et tester le modèle de Machine Learning.\n",
    "\n",
    "# Copiez le code suivant dans une cellule et exécutez-le pour importer les bibliothèques.\n",
    "# Pandas library is used for handling tabular data\n",
    "import pandas as pd\n",
    "# NumPy is used for handling numerical series operations (addition, multiplication, and ...)\n",
    "import numpy as np\n",
    "# Sklearn library contains all the machine learning packages we need to digest and extract patterns from the data\n",
    "\n",
    "from sklearn import linear_model, model_selection, metrics\n",
    "from sklearn.model_selection import train_test_split\n",
    "\n",
    "# Machine learning libraries used to build a decision tree\n",
    "from sklearn.tree import DecisionTreeClassifier\n",
    "from sklearn import tree\n",
    "\n",
    "# Sklearn's preprocessing library is used for processing and cleaning the data \n",
    "from sklearn import preprocessing\n",
    "\n",
    "\n",
    "# for visualizing the tree\n",
    "import pydotplus\n",
    "from IPython.display import Image"
   ]
  },
  {
   "cell_type": "code",
   "execution_count": 3,
   "metadata": {},
   "outputs": [
    {
     "output_type": "execute_result",
     "data": {
      "text/plain": [
       "        Name       Date Time (East Coast)        Location Crewed or Uncrewed  \\\n",
       "0        NaN 1958-12-04               NaN  Cape Canaveral                NaN   \n",
       "1        NaN 1958-12-05               NaN  Cape Canaveral                NaN   \n",
       "2  Pioneer 3 1958-12-06          01:45:00  Cape Canaveral           Uncrewed   \n",
       "3        NaN 1958-12-07               NaN  Cape Canaveral                NaN   \n",
       "4        NaN 1958-12-08               NaN  Cape Canaveral                NaN   \n",
       "\n",
       "  Launched?  High Temp  Low Temp  Ave Temp  Temp at Launch Time  ...  \\\n",
       "0       NaN       75.0      68.0     71.00                  NaN  ...   \n",
       "1       NaN       78.0      70.0     73.39                  NaN  ...   \n",
       "2         Y       73.0       0.0     60.21                 62.0  ...   \n",
       "3       NaN       76.0      57.0     66.04                  NaN  ...   \n",
       "4       NaN       79.0      60.0     70.52                  NaN  ...   \n",
       "\n",
       "   Max Wind Speed  Visibility  Wind Speed at Launch Time  \\\n",
       "0            16.0        15.0                        NaN   \n",
       "1            14.0        10.0                        NaN   \n",
       "2            15.0        10.0                       11.0   \n",
       "3            10.0        10.0                        NaN   \n",
       "4            12.0        10.0                        NaN   \n",
       "\n",
       "   Hist Ave Max Wind Speed  Hist Ave Visibility Sea Level Pressure  \\\n",
       "0                      NaN                  NaN              30.22   \n",
       "1                      NaN                  NaN               30.2   \n",
       "2                      NaN                  NaN              30.25   \n",
       "3                      NaN                  NaN              30.28   \n",
       "4                      NaN                  NaN              30.23   \n",
       "\n",
       "   Hist Ave Sea Level Pressure  Day Length      Condition  Notes  \n",
       "0                          NaN    10:26:00         Cloudy    NaN  \n",
       "1                          NaN    10:26:00         Cloudy    NaN  \n",
       "2                          NaN    10:25:00         Cloudy    NaN  \n",
       "3                          NaN    10:25:00  Partly Cloudy    NaN  \n",
       "4                          NaN    12:24:00  Partly Cloudy    NaN  \n",
       "\n",
       "[5 rows x 26 columns]"
      ],
      "text/html": "<div>\n<style scoped>\n    .dataframe tbody tr th:only-of-type {\n        vertical-align: middle;\n    }\n\n    .dataframe tbody tr th {\n        vertical-align: top;\n    }\n\n    .dataframe thead th {\n        text-align: right;\n    }\n</style>\n<table border=\"1\" class=\"dataframe\">\n  <thead>\n    <tr style=\"text-align: right;\">\n      <th></th>\n      <th>Name</th>\n      <th>Date</th>\n      <th>Time (East Coast)</th>\n      <th>Location</th>\n      <th>Crewed or Uncrewed</th>\n      <th>Launched?</th>\n      <th>High Temp</th>\n      <th>Low Temp</th>\n      <th>Ave Temp</th>\n      <th>Temp at Launch Time</th>\n      <th>...</th>\n      <th>Max Wind Speed</th>\n      <th>Visibility</th>\n      <th>Wind Speed at Launch Time</th>\n      <th>Hist Ave Max Wind Speed</th>\n      <th>Hist Ave Visibility</th>\n      <th>Sea Level Pressure</th>\n      <th>Hist Ave Sea Level Pressure</th>\n      <th>Day Length</th>\n      <th>Condition</th>\n      <th>Notes</th>\n    </tr>\n  </thead>\n  <tbody>\n    <tr>\n      <th>0</th>\n      <td>NaN</td>\n      <td>1958-12-04</td>\n      <td>NaN</td>\n      <td>Cape Canaveral</td>\n      <td>NaN</td>\n      <td>NaN</td>\n      <td>75.0</td>\n      <td>68.0</td>\n      <td>71.00</td>\n      <td>NaN</td>\n      <td>...</td>\n      <td>16.0</td>\n      <td>15.0</td>\n      <td>NaN</td>\n      <td>NaN</td>\n      <td>NaN</td>\n      <td>30.22</td>\n      <td>NaN</td>\n      <td>10:26:00</td>\n      <td>Cloudy</td>\n      <td>NaN</td>\n    </tr>\n    <tr>\n      <th>1</th>\n      <td>NaN</td>\n      <td>1958-12-05</td>\n      <td>NaN</td>\n      <td>Cape Canaveral</td>\n      <td>NaN</td>\n      <td>NaN</td>\n      <td>78.0</td>\n      <td>70.0</td>\n      <td>73.39</td>\n      <td>NaN</td>\n      <td>...</td>\n      <td>14.0</td>\n      <td>10.0</td>\n      <td>NaN</td>\n      <td>NaN</td>\n      <td>NaN</td>\n      <td>30.2</td>\n      <td>NaN</td>\n      <td>10:26:00</td>\n      <td>Cloudy</td>\n      <td>NaN</td>\n    </tr>\n    <tr>\n      <th>2</th>\n      <td>Pioneer 3</td>\n      <td>1958-12-06</td>\n      <td>01:45:00</td>\n      <td>Cape Canaveral</td>\n      <td>Uncrewed</td>\n      <td>Y</td>\n      <td>73.0</td>\n      <td>0.0</td>\n      <td>60.21</td>\n      <td>62.0</td>\n      <td>...</td>\n      <td>15.0</td>\n      <td>10.0</td>\n      <td>11.0</td>\n      <td>NaN</td>\n      <td>NaN</td>\n      <td>30.25</td>\n      <td>NaN</td>\n      <td>10:25:00</td>\n      <td>Cloudy</td>\n      <td>NaN</td>\n    </tr>\n    <tr>\n      <th>3</th>\n      <td>NaN</td>\n      <td>1958-12-07</td>\n      <td>NaN</td>\n      <td>Cape Canaveral</td>\n      <td>NaN</td>\n      <td>NaN</td>\n      <td>76.0</td>\n      <td>57.0</td>\n      <td>66.04</td>\n      <td>NaN</td>\n      <td>...</td>\n      <td>10.0</td>\n      <td>10.0</td>\n      <td>NaN</td>\n      <td>NaN</td>\n      <td>NaN</td>\n      <td>30.28</td>\n      <td>NaN</td>\n      <td>10:25:00</td>\n      <td>Partly Cloudy</td>\n      <td>NaN</td>\n    </tr>\n    <tr>\n      <th>4</th>\n      <td>NaN</td>\n      <td>1958-12-08</td>\n      <td>NaN</td>\n      <td>Cape Canaveral</td>\n      <td>NaN</td>\n      <td>NaN</td>\n      <td>79.0</td>\n      <td>60.0</td>\n      <td>70.52</td>\n      <td>NaN</td>\n      <td>...</td>\n      <td>12.0</td>\n      <td>10.0</td>\n      <td>NaN</td>\n      <td>NaN</td>\n      <td>NaN</td>\n      <td>30.23</td>\n      <td>NaN</td>\n      <td>12:24:00</td>\n      <td>Partly Cloudy</td>\n      <td>NaN</td>\n    </tr>\n  </tbody>\n</table>\n<p>5 rows × 26 columns</p>\n</div>"
     },
     "metadata": {},
     "execution_count": 3
    }
   ],
   "source": [
    "\n",
    "\n",
    "# Lire des données dans une variable\n",
    "# Maintenant que toutes les bibliothèques sont importées, nous pouvons utiliser la bibliothèque pandas pour importer nos données. Utilisez  la commande pd.read_excel pour lire les données et les enregistrer dans une variable. Utilisez ensuite la fonction .head() pour imprimer  les cinq premières lignes des données. Cela permet de s’assurer que tous les éléments ont été lus correctement.\n",
    "\n",
    "launch_data = pd.read_excel('RocketLaunchDataCompleted.xlsx')\n",
    "launch_data.head()"
   ]
  },
  {
   "cell_type": "code",
   "execution_count": 4,
   "metadata": {},
   "outputs": [
    {
     "output_type": "execute_result",
     "data": {
      "text/plain": [
       "Index(['Name', 'Date', 'Time (East Coast)', 'Location', 'Crewed or Uncrewed',\n",
       "       'Launched?', 'High Temp', 'Low Temp', 'Ave Temp', 'Temp at Launch Time',\n",
       "       'Hist High Temp', 'Hist Low Temp', 'Hist Ave Temp',\n",
       "       'Percipitation at Launch Time', 'Hist Ave Percipitation',\n",
       "       'Wind Direction', 'Max Wind Speed', 'Visibility',\n",
       "       'Wind Speed at Launch Time', 'Hist Ave Max Wind Speed',\n",
       "       'Hist Ave Visibility', 'Sea Level Pressure',\n",
       "       'Hist Ave Sea Level Pressure', 'Day Length', 'Condition', 'Notes'],\n",
       "      dtype='object')"
      ]
     },
     "metadata": {},
     "execution_count": 4
    }
   ],
   "source": [
    "# Commencer à explorer les données\n",
    "# Enfin, nous pouvons utiliser l’appel de fonction .columns pour afficher toutes les colonnes de nos données. Cela nous affiche les attributs de données. Vous verrez quelques attributs courants comme les noms des fusées précédentes dont le lancement était prévu, les dates prévues, si elles ont effectivement été lancées, et bien d’autres encore. Examinez ces colonnes et essayez de deviner lesquelles auront le plus grand impact sur la détermination du lancement d’une fusée.\n",
    "launch_data.columns"
   ]
  },
  {
   "cell_type": "code",
   "execution_count": 5,
   "metadata": {},
   "outputs": [
    {
     "output_type": "stream",
     "name": "stdout",
     "text": [
      "<class 'pandas.core.frame.DataFrame'>\nRangeIndex: 300 entries, 0 to 299\nData columns (total 26 columns):\n #   Column                        Non-Null Count  Dtype         \n---  ------                        --------------  -----         \n 0   Name                          60 non-null     object        \n 1   Date                          300 non-null    datetime64[ns]\n 2   Time (East Coast)             59 non-null     object        \n 3   Location                      300 non-null    object        \n 4   Crewed or Uncrewed            60 non-null     object        \n 5   Launched?                     60 non-null     object        \n 6   High Temp                     299 non-null    float64       \n 7   Low Temp                      299 non-null    float64       \n 8   Ave Temp                      299 non-null    float64       \n 9   Temp at Launch Time           59 non-null     float64       \n 10  Hist High Temp                299 non-null    float64       \n 11  Hist Low Temp                 299 non-null    float64       \n 12  Hist Ave Temp                 299 non-null    float64       \n 13  Percipitation at Launch Time  299 non-null    float64       \n 14  Hist Ave Percipitation        299 non-null    float64       \n 15  Wind Direction                299 non-null    object        \n 16  Max Wind Speed                299 non-null    float64       \n 17  Visibility                    299 non-null    float64       \n 18  Wind Speed at Launch Time     59 non-null     float64       \n 19  Hist Ave Max Wind Speed       0 non-null      float64       \n 20  Hist Ave Visibility           0 non-null      float64       \n 21  Sea Level Pressure            299 non-null    object        \n 22  Hist Ave Sea Level Pressure   0 non-null      float64       \n 23  Day Length                    298 non-null    object        \n 24  Condition                     298 non-null    object        \n 25  Notes                         3 non-null      object        \ndtypes: datetime64[ns](1), float64(15), object(10)\nmemory usage: 61.1+ KB\n"
     ]
    }
   ],
   "source": [
    "# Nettoyage des données\n",
    "# La première étape à suivre pour nettoyer vos données consiste à remplacer toutes les valeurs manquantes par des éléments. Le remplacement de ces valeurs nécessite généralement une expertise en la matière, mais dans ce cas, vous utiliserez votre meilleur jugement. Certaines lignes (n’oubliez pas que les lignes représentent les jours) sont des données météorologiques ou de lancement manquantes.\n",
    "\n",
    "# Pour commencer, obtenez d’abord une vue d’ensemble des données de lancement en entrant cette commande dans une cellule :\n",
    "\n",
    "launch_data.info()\n",
    "\n",
    "# Vous pouvez voir que Hist Ave Max Wind Speed, Hist Ave Visibilityet Hist Ave Sea Level Pressure n’ont pas de données.\n",
    "#Il est logique que Wind Speed at Launch Time, Temp at Launch Time, Launched, Crewed or Uncrewed, Timeet Name n’aient que 60 valeurs, car les données incluent uniquement 60 lancements. Les autres sont les jours avant et après le lancement."
   ]
  },
  {
   "cell_type": "code",
   "execution_count": 6,
   "metadata": {},
   "outputs": [],
   "source": [
    "#Voici quelques méthodes pour nettoyer les données :\n",
    "\n",
    "#   Les lignes qui n’ont pas de \"Y\" dans la colonne \"Launched\" n’ont pas eu de lancement de fusée, donc faites ces valeurs manquantes \"N\".\n",
    "#   Pour les lignes où il manque des informations sur le fait que la fusée était avec ou sans équipage, partez du principe qu’il n’y avait pas d’équipage. Une fusée sans équipage est plus probable, car il y a eu moins de missions avec équipage.\n",
    "#   Lorsque la direction du vent est manquante, marquez-la comme \"unknown\".\n",
    "#   Pour les données de condition manquantes, supposez qu’il s’agissait d’un jour classique et utilisez \"fair\".\n",
    "#   Pour toutes les autres données, utilisez la valeur \"0\".\n",
    "\n",
    "#Dans la cellule suivante, collez et exécutez le code suivant :\n",
    "# To handle missing values, we will fill the missing values with appropriate values \n",
    "launch_data['Launched?'].fillna('N',inplace=True)\n",
    "launch_data['Crewed or Uncrewed'].fillna('Uncrewed',inplace=True)\n",
    "launch_data['Wind Direction'].fillna('unknown',inplace=True)\n",
    "launch_data['Condition'].fillna('Fair',inplace=True)\n",
    "launch_data.fillna(0,inplace=True)\n"
   ]
  },
  {
   "cell_type": "code",
   "execution_count": 7,
   "metadata": {},
   "outputs": [
    {
     "output_type": "stream",
     "name": "stdout",
     "text": [
      "<class 'pandas.core.frame.DataFrame'>\nRangeIndex: 300 entries, 0 to 299\nData columns (total 26 columns):\n #   Column                        Non-Null Count  Dtype         \n---  ------                        --------------  -----         \n 0   Name                          300 non-null    object        \n 1   Date                          300 non-null    datetime64[ns]\n 2   Time (East Coast)             300 non-null    object        \n 3   Location                      300 non-null    object        \n 4   Crewed or Uncrewed            300 non-null    object        \n 5   Launched?                     300 non-null    object        \n 6   High Temp                     300 non-null    float64       \n 7   Low Temp                      300 non-null    float64       \n 8   Ave Temp                      300 non-null    float64       \n 9   Temp at Launch Time           300 non-null    float64       \n 10  Hist High Temp                300 non-null    float64       \n 11  Hist Low Temp                 300 non-null    float64       \n 12  Hist Ave Temp                 300 non-null    float64       \n 13  Percipitation at Launch Time  300 non-null    float64       \n 14  Hist Ave Percipitation        300 non-null    float64       \n 15  Wind Direction                300 non-null    object        \n 16  Max Wind Speed                300 non-null    float64       \n 17  Visibility                    300 non-null    float64       \n 18  Wind Speed at Launch Time     300 non-null    float64       \n 19  Hist Ave Max Wind Speed       300 non-null    float64       \n 20  Hist Ave Visibility           300 non-null    float64       \n 21  Sea Level Pressure            300 non-null    object        \n 22  Hist Ave Sea Level Pressure   300 non-null    float64       \n 23  Day Length                    300 non-null    object        \n 24  Condition                     300 non-null    object        \n 25  Notes                         300 non-null    object        \ndtypes: datetime64[ns](1), float64(15), object(10)\nmemory usage: 61.1+ KB\n"
     ]
    }
   ],
   "source": [
    "# to see evolution = all lines have something in : no more empty lines\n",
    "launch_data.info()"
   ]
  },
  {
   "cell_type": "code",
   "execution_count": 8,
   "metadata": {},
   "outputs": [],
   "source": [
    "# Manipulation de données\n",
    "# Étant donné que les calculs sont mieux adaptés aux entrées numériques, convertissez tout le texte en nombres. À titre d’exemple, nous utiliserons 1 s’il s’agit d’une fusée avec équipage et 0 pour une fusée sans équipage.\n",
    "\n",
    "## As part of the data cleaning process, we have to convert text data to numerical because computers understand only numbers\n",
    "label_encoder = preprocessing.LabelEncoder()\n",
    "\n",
    "# Three columns have categorical text info, and we convert them to numbers\n",
    "launch_data['Crewed or Uncrewed'] = label_encoder.fit_transform(launch_data['Crewed or Uncrewed'])\n",
    "launch_data['Wind Direction'] = label_encoder.fit_transform(launch_data['Wind Direction'])\n",
    "launch_data['Condition'] = label_encoder.fit_transform(launch_data['Condition'])"
   ]
  },
  {
   "cell_type": "code",
   "execution_count": 9,
   "metadata": {},
   "outputs": [
    {
     "output_type": "execute_result",
     "data": {
      "text/plain": [
       "        Name       Date Time (East Coast)        Location  Crewed or Uncrewed  \\\n",
       "0          0 1958-12-04                 0  Cape Canaveral                   1   \n",
       "1          0 1958-12-05                 0  Cape Canaveral                   1   \n",
       "2  Pioneer 3 1958-12-06          01:45:00  Cape Canaveral                   1   \n",
       "3          0 1958-12-07                 0  Cape Canaveral                   1   \n",
       "4          0 1958-12-08                 0  Cape Canaveral                   1   \n",
       "\n",
       "  Launched?  High Temp  Low Temp  Ave Temp  Temp at Launch Time  ...  \\\n",
       "0         N       75.0      68.0     71.00                  0.0  ...   \n",
       "1         N       78.0      70.0     73.39                  0.0  ...   \n",
       "2         Y       73.0       0.0     60.21                 62.0  ...   \n",
       "3         N       76.0      57.0     66.04                  0.0  ...   \n",
       "4         N       79.0      60.0     70.52                  0.0  ...   \n",
       "\n",
       "   Max Wind Speed  Visibility  Wind Speed at Launch Time  \\\n",
       "0            16.0        15.0                        0.0   \n",
       "1            14.0        10.0                        0.0   \n",
       "2            15.0        10.0                       11.0   \n",
       "3            10.0        10.0                        0.0   \n",
       "4            12.0        10.0                        0.0   \n",
       "\n",
       "   Hist Ave Max Wind Speed  Hist Ave Visibility  Sea Level Pressure  \\\n",
       "0                      0.0                  0.0               30.22   \n",
       "1                      0.0                  0.0                30.2   \n",
       "2                      0.0                  0.0               30.25   \n",
       "3                      0.0                  0.0               30.28   \n",
       "4                      0.0                  0.0               30.23   \n",
       "\n",
       "   Hist Ave Sea Level Pressure  Day Length  Condition  Notes  \n",
       "0                          0.0    10:26:00          0      0  \n",
       "1                          0.0    10:26:00          0      0  \n",
       "2                          0.0    10:25:00          0      0  \n",
       "3                          0.0    10:25:00          6      0  \n",
       "4                          0.0    12:24:00          6      0  \n",
       "\n",
       "[5 rows x 26 columns]"
      ],
      "text/html": "<div>\n<style scoped>\n    .dataframe tbody tr th:only-of-type {\n        vertical-align: middle;\n    }\n\n    .dataframe tbody tr th {\n        vertical-align: top;\n    }\n\n    .dataframe thead th {\n        text-align: right;\n    }\n</style>\n<table border=\"1\" class=\"dataframe\">\n  <thead>\n    <tr style=\"text-align: right;\">\n      <th></th>\n      <th>Name</th>\n      <th>Date</th>\n      <th>Time (East Coast)</th>\n      <th>Location</th>\n      <th>Crewed or Uncrewed</th>\n      <th>Launched?</th>\n      <th>High Temp</th>\n      <th>Low Temp</th>\n      <th>Ave Temp</th>\n      <th>Temp at Launch Time</th>\n      <th>...</th>\n      <th>Max Wind Speed</th>\n      <th>Visibility</th>\n      <th>Wind Speed at Launch Time</th>\n      <th>Hist Ave Max Wind Speed</th>\n      <th>Hist Ave Visibility</th>\n      <th>Sea Level Pressure</th>\n      <th>Hist Ave Sea Level Pressure</th>\n      <th>Day Length</th>\n      <th>Condition</th>\n      <th>Notes</th>\n    </tr>\n  </thead>\n  <tbody>\n    <tr>\n      <th>0</th>\n      <td>0</td>\n      <td>1958-12-04</td>\n      <td>0</td>\n      <td>Cape Canaveral</td>\n      <td>1</td>\n      <td>N</td>\n      <td>75.0</td>\n      <td>68.0</td>\n      <td>71.00</td>\n      <td>0.0</td>\n      <td>...</td>\n      <td>16.0</td>\n      <td>15.0</td>\n      <td>0.0</td>\n      <td>0.0</td>\n      <td>0.0</td>\n      <td>30.22</td>\n      <td>0.0</td>\n      <td>10:26:00</td>\n      <td>0</td>\n      <td>0</td>\n    </tr>\n    <tr>\n      <th>1</th>\n      <td>0</td>\n      <td>1958-12-05</td>\n      <td>0</td>\n      <td>Cape Canaveral</td>\n      <td>1</td>\n      <td>N</td>\n      <td>78.0</td>\n      <td>70.0</td>\n      <td>73.39</td>\n      <td>0.0</td>\n      <td>...</td>\n      <td>14.0</td>\n      <td>10.0</td>\n      <td>0.0</td>\n      <td>0.0</td>\n      <td>0.0</td>\n      <td>30.2</td>\n      <td>0.0</td>\n      <td>10:26:00</td>\n      <td>0</td>\n      <td>0</td>\n    </tr>\n    <tr>\n      <th>2</th>\n      <td>Pioneer 3</td>\n      <td>1958-12-06</td>\n      <td>01:45:00</td>\n      <td>Cape Canaveral</td>\n      <td>1</td>\n      <td>Y</td>\n      <td>73.0</td>\n      <td>0.0</td>\n      <td>60.21</td>\n      <td>62.0</td>\n      <td>...</td>\n      <td>15.0</td>\n      <td>10.0</td>\n      <td>11.0</td>\n      <td>0.0</td>\n      <td>0.0</td>\n      <td>30.25</td>\n      <td>0.0</td>\n      <td>10:25:00</td>\n      <td>0</td>\n      <td>0</td>\n    </tr>\n    <tr>\n      <th>3</th>\n      <td>0</td>\n      <td>1958-12-07</td>\n      <td>0</td>\n      <td>Cape Canaveral</td>\n      <td>1</td>\n      <td>N</td>\n      <td>76.0</td>\n      <td>57.0</td>\n      <td>66.04</td>\n      <td>0.0</td>\n      <td>...</td>\n      <td>10.0</td>\n      <td>10.0</td>\n      <td>0.0</td>\n      <td>0.0</td>\n      <td>0.0</td>\n      <td>30.28</td>\n      <td>0.0</td>\n      <td>10:25:00</td>\n      <td>6</td>\n      <td>0</td>\n    </tr>\n    <tr>\n      <th>4</th>\n      <td>0</td>\n      <td>1958-12-08</td>\n      <td>0</td>\n      <td>Cape Canaveral</td>\n      <td>1</td>\n      <td>N</td>\n      <td>79.0</td>\n      <td>60.0</td>\n      <td>70.52</td>\n      <td>0.0</td>\n      <td>...</td>\n      <td>12.0</td>\n      <td>10.0</td>\n      <td>0.0</td>\n      <td>0.0</td>\n      <td>0.0</td>\n      <td>30.23</td>\n      <td>0.0</td>\n      <td>12:24:00</td>\n      <td>6</td>\n      <td>0</td>\n    </tr>\n  </tbody>\n</table>\n<p>5 rows × 26 columns</p>\n</div>"
     },
     "metadata": {},
     "execution_count": 9
    }
   ],
   "source": [
    "# Examinons à nouveau toutes les données et vérifions qu’elles ont été nettoyées\n",
    "launch_data.head()"
   ]
  },
  {
   "cell_type": "code",
   "execution_count": 10,
   "metadata": {},
   "outputs": [],
   "source": [
    "# Exercice – Penser à des données supplémentaires à inclure\n",
    "\n",
    "# Les choix que nous avons faits dans ce module étaient, au mieux, simplistes. Bien qu’une fusée n’ait pas été lancée la veille ou le lendemain du lancement du SpaceX Dragon le 30 mai 2020, cela ne signifie pas qu’un lancement de fusée aurait été reporté en raison des conditions météorologiques de ces jours-là. Ainsi, le fait de placer N dans la colonne Launched pour ces dates n’est pas vraiment exact.\n",
    "\n",
    "# Ces modules vous guident à travers les étapes pratiques pour résoudre les problèmes rencontrés lors de l’exploration spatiale, mais vous êtes également censé trouver votre propre chemin. Le but ultime est de vous inspirer pour créer, imaginer et repousser les limites de ce que nous comprenons et des connaissances que nous détenons collectivement sur notre monde et au-delà.\n",
    "\n",
    "\n",
    "\n",
    "\n",
    "# Voici quelques méthodes pour poursuivre votre processus d’apprentissage et de collecte de données :\n",
    "#   Explorer les données plus en détail : Recherchez des articles et des rapports sur chaque lancement. Des considérations concernant la météo ont-elles été prises en compte avant le lancement ? Y avait-il des conditions météorologiques autour de ces dates qui auraient pu être inquiétantes ?\n",
    "#   Explorer les données météorologiques manquantes : Qu’en est-il des dates auxquelles la NASA a choisi de ne pas lancer de fusées ? Au-delà de jours particuliers, y a-t-il eu des saisons que la NASA a évitées ? Quel type de profil météorologique ces saisons ont-elles tendance à présenter ?\n",
    "#   Explorer les données de lancement manquantes : Pouvez-vous trouver des données sur les lancements qui ont été reportés en raison de la météo ? Existe-t-il des données provenant d’autres pays sur leurs lancements que vous pourriez intégrer ?\n",
    "#   Explorer d’autres manipulations de données : Aurions-nous pu utiliser de meilleures valeurs pour compléter les données manquantes ?\n",
    "#   Choisissez les données que vous souhaitez : Si vous aviez accès aux experts et aux sources de données de la NASA, qu’est-ce qui serait le plus important selon vous pour prendre une décision de lancement ou de report ? Si vous pouviez poser une question à un expert, quelle serait-elle ?\n",
    "#   Évaluer des problèmes similaires : Existe-t-il des problèmes similaires que vous pouvez utiliser pour compléter ces données ? Par exemple, les retards d’avion dus à la météo dans la zone sont-ils également un indicateur ?\n",
    "\n",
    "# Être un spécialiste des données ne consiste pas à disposer d’un ensemble complet de données et à y appliquer un algorithme. Il s’agit de partir de quelque chose de désordonné et probablement faux et d’apprendre de manière itérative. À la fin du parcours d’apprentissage, vous aurez appris quelque chose sur les lancements de fusées. Grâce à ces nouvelles connaissances, vous pouvez revenir à ce module et prendre des décisions plus éclairées."
   ]
  },
  {
   "cell_type": "code",
   "execution_count": 11,
   "metadata": {},
   "outputs": [],
   "source": [
    "# creation du modele\n",
    "\n",
    "# Nettoyage des données supplémentaire\n",
    "# Nous allons ensuite supprimer certaines colonnes qui ne sont pas nécessaires pour effectuer cette prédiction. Les colonnes telles que « Nom » nous donnent plus de contexte sur les données. Toutefois, le nom d’un lancement n’indique pas si la météo entraînera le report du lancement. Dans ce module, nous allons nous concentrer sur les colonnes sur la vitesse du vent, les conditions et les précipitations.\n",
    "\n",
    "# First, we save the output we are interested in. In this case, \"launch\" yes and no's go into the output variable.\n",
    "y = launch_data['Launched?']\n",
    "\n",
    "# Removing the columns we are not interested in\n",
    "launch_data.drop(['Name','Date','Time (East Coast)','Location','Launched?','Hist Ave Sea Level Pressure','Sea Level Pressure','Day Length','Notes','Hist Ave Visibility', 'Hist Ave Max Wind Speed'],axis=1, inplace=True)\n",
    "\n",
    "# Saving the rest of the data as input data\n",
    "X = launch_data"
   ]
  },
  {
   "cell_type": "code",
   "execution_count": 12,
   "metadata": {},
   "outputs": [
    {
     "output_type": "execute_result",
     "data": {
      "text/plain": [
       "Index(['Crewed or Uncrewed', 'High Temp', 'Low Temp', 'Ave Temp',\n",
       "       'Temp at Launch Time', 'Hist High Temp', 'Hist Low Temp',\n",
       "       'Hist Ave Temp', 'Percipitation at Launch Time',\n",
       "       'Hist Ave Percipitation', 'Wind Direction', 'Max Wind Speed',\n",
       "       'Visibility', 'Wind Speed at Launch Time', 'Condition'],\n",
       "      dtype='object')"
      ]
     },
     "metadata": {},
     "execution_count": 12
    }
   ],
   "source": [
    "# Vous avez maintenant deux variables. La sortie est en y, et l’entrée se trouve dans X. Vous pouvez voir une vue d’ensemble des données d’entrée en examinant les colonnes de la variable X nouvellement créée :\n",
    "# List of variables that our machine learning algorithm is going to look at:\n",
    "X.columns\n",
    "\n",
    "# La données d’entrée X représente la météo pour un jour particulier. Dans ce cas, nous ne sommes pas soucieux de la date ou de l’heure. Nous voulons que le profil de la météo de ce jour soit l’indicateur qui détermine si un lancement doit se produire, et non la date ou l’heure."
   ]
  },
  {
   "cell_type": "code",
   "execution_count": 13,
   "metadata": {},
   "outputs": [
    {
     "output_type": "execute_result",
     "data": {
      "text/plain": [
       "0      N\n",
       "1      N\n",
       "2      Y\n",
       "3      N\n",
       "4      N\n",
       "      ..\n",
       "295    N\n",
       "296    N\n",
       "297    Y\n",
       "298    N\n",
       "299    N\n",
       "Name: Launched?, Length: 300, dtype: object"
      ]
     },
     "metadata": {},
     "execution_count": 13
    }
   ],
   "source": [
    "y"
   ]
  },
  {
   "cell_type": "code",
   "execution_count": 14,
   "metadata": {},
   "outputs": [],
   "source": [
    "# Souvenez-vous de votre question : Pouvez-vous prédire si un lancement est susceptible de se produire en fonction de conditions météorologiques spécifiques ? Cette question a deux possibilités. Une fusée démarre, soit oui, soit non. Cette question est considérée comme un problème de classification à deux classes.\n",
    "\n",
    "# Dans cette catégorie d’algorithme, vous pouvez choisir parmi de nombreux algorithmes spécifiques. Dans ce cas, vous allez explorer un arbre de décision à deux classes. La visualisation des résultats d’un arbre de décision donne des aperçus qui vous aideront à effectuer des itérations sur la collecte, le nettoyage et la manipulation des données dans le futur.\n",
    "\n",
    "# Créer un modèle Machine Learning dans Python\n",
    "# En utilisant Scikit-learn (https://scikit-learn.org/stable/index.html) , il est facile de créer le modèle Machine Learning dont vous avez besoin pour cet exercice. Collez ce code dans une autre cellule de Visual Studio Code :\n",
    "# Create decision tree classifier \n",
    "tree_model = DecisionTreeClassifier(random_state=0,max_depth=5)\n",
    "\n",
    "# Jetons un coup d’œil à la documentation (https://scikit-learn.org/stable/modules/generated/sklearn.tree.DecisionTreeClassifier.html?highlight=decision%20tree%20classifier#sklearn.tree.DecisionTreeClassifier?azure-portal=true) pour le classifieur de l’arbre de décision  et à l’importance des paramètres que nous avons spécifiés ici. Les deux paramètres que nous avons spécifiés sont random_state et max_depth.\n",
    "\n",
    "#Le paramètre random_state est utilisé pour la plupart des algorithmes de Machine Learning. Il contrôle le caractère aléatoire de l’algorithme. Lorsque vous utilisez cet estimateur pour fractionner les données en données pour effectuer l’apprentissage avec et les données avec lesquelles effectuer le test, la valeur initiale fournie ici détermine le caractère aléatoire de cette division. L’unité suivante fournit plus d’informations sur le fractionnement des données.\n",
    "\n",
    "#Le paramètre max_depth est un paramètre spécifique à une arborescence qui vous permet de définir l’étendue de la sortie du modèle. Dans ce cas, il n’est probablement pas informatif pour obtenir toutes les probabilités d’une condition météorologique spécifique et son effet potentiel sur la probabilité d’un lancement de fusée. La profondeur sera limitée à cinq pour réduire les connaissances acquises à ce qui est le plus souvent lié aux résultats."
   ]
  },
  {
   "cell_type": "code",
   "execution_count": 15,
   "metadata": {},
   "outputs": [],
   "source": [
    "# L’étape suivante consiste à fractionner vos données en données d’entraînement et de test. Si vous fournissez votre classifieur Machine Learning avec l’ensemble de vos données, vous n’aurez plus qu’à vous indiquer les données dont vous disposez. Elle ne produira pas de prédictions exactes.\n",
    "\n",
    "\n",
    "\n",
    "#Pourquoi dois-je fractionner des données ?\n",
    "\n",
    "#Une façon d’expliquer l’importance du fractionnement des données consiste à les comparer à un examen que vous pourriez entreprendre. Imaginez une classe formelle que vous pouvez suivre. Tout au long de la classe, vous voyez des exemples de problèmes et on vous dit les réponses. Ce scénario se produit dans les conférences, les devoirs et les examens de pratiques.\n",
    "\n",
    "#Imaginez une classe où votre formateur vous a donné l’examen exact et la clé de l’examen (réponses) le jour précédant l’examen. Allez-vous réussir ce test haut la main ? Oui !\n",
    "\n",
    "#Savez-vous si vous avez appris les concepts ? Non. Il est plus probable que vous ayez appris les réponses aux questions sur le test et non les concepts que l’examen essayait de tester.\n",
    "\n",
    "#Si vous souhaitez vraiment apprendre, vous devez vous exercer avec des problèmes pour lesquels vous avez des réponses. Lorsque vous vous sentez à l’aise avec ces problèmes, essayez des problèmes pour lesquels vous ne connaissez pas encore les réponses. C’est fondamentalement ce que le classifieur fait pour « apprendre ».\n",
    "\n",
    "#Fractionner les données\n",
    "#Vous souhaiterez fractionner vos données en quatre nouvelles variables. Vous avez déjà X et y qui représentent votre entrée et votre sortie. À présent, il est temps de les fractionner en données d’entraînement et de test.\n",
    "\n",
    "#En utilisant Scikit-learn et la fonction de fractionnement du classifieur, vous pouvez obtenir un échantillonnage aléatoire des X et des y qui correspondent dans l’ordre. Si les données n’ont pas été fractionnées de façon aléatoire mais que les premières 80 % des lignes ont été prises pour les données d’entraînement et que le reste était laissé à des fins de test, cela entraînerait des problèmes.\n",
    "\n",
    "#Par exemple, supposons que les données sont triées par ordre de date. Si les 240 premières lignes ont été prises pour entraîner, vous entraîneriez votre modèle sur des données qui datent d’avant 1999. C’est un problème, car les capteurs peuvent avoir changé au fil du temps. Seule la recherche de données plus anciennes peut ne pas être un bon indicateur pour les décisions qui seraient prises avec la nouvelle technologie.\n",
    "\n",
    "#Collez ce code dans une cellule de Visual Studio Code pour fractionner vos données :\n",
    "X_train, X_test, y_train, y_test = train_test_split(X,y, test_size=0.2, random_state=99)\n",
    "\n",
    "# Ce code sépare de manière aléatoire les données en quatre groupes : X_train, X_test, y_trainet y_test. Avec la fonction train_test_split de Scikit-learn, vous spécifiez quatre paramètres importants :\n",
    "#   Données d’entrée : X - toutes les colonnes que nous souhaitons utiliser pour prédire un lancement.\n",
    "#   Données de sortie : y - le résultat de chaque ligne (qu’il s’agisse d’une fusée lancée ou non).\n",
    "#   Taille de test : 0.2 - Entraîner vos données sur 80 % et les tester sur 20 % est une division courante de la science des données.\n",
    "#   État aléatoire : 99 - valeur de départ aléatoire qui modifiera le caractère aléatoire de la sélection des données.\n",
    "# Vous pouvez revenir en arrière et modifier la taille du test et l’état aléatoire pour essayer d’autres options."
   ]
  },
  {
   "cell_type": "code",
   "execution_count": 16,
   "metadata": {},
   "outputs": [
    {
     "output_type": "execute_result",
     "data": {
      "text/plain": [
       "DecisionTreeClassifier(max_depth=5, random_state=0)"
      ]
     },
     "metadata": {},
     "execution_count": 16
    }
   ],
   "source": [
    "# entraîner et tester le modèle Machine Learning pour prédire la réussite du lancement de fusée\n",
    "# Une fois les données réparties dans les sections entraînement et test, nous pouvons entraîner notre modèle Machine Learning. L’une des raisons pour lesquelles Python est un langage populaire pour la science des données et le Machine Learning est due à l’ensemble des bibliothèques qui existent pour prendre en charge l’étude des données. Comme nous l’avons vu, obtenir le modèle Machine Learning créé et le fractionnement des données était simple. L’ajustement et le test de notre modèle seront également simples.\n",
    "\n",
    "\n",
    "\n",
    "# Ajuster le modèle\n",
    "# L’étape suivante du cycle de vie de la science des données consiste à adapter le modèle aux données d’apprentissage. L’acte de « l’ajustement » est fondamentalement là où le modèle est en cours d’apprentissage. Ce processus a été décrit avec l’exemple baie. L’homme était en train d’être « ajusté » lorsqu’on a apporté une baie et qu’on leur a dit ce que c’était. Pour ajuster le modèle, vous appelez fit() sur le classifieur Machine Learning et transmettez les données X_train et y_train.\n",
    "\n",
    "#L’ajustement du modèle revient à effectuer un examen pratique dans lequel vous avez accès aux réponses pour vous assurer que vous comprenez les concepts.\n",
    "# Fitting the model to the training data\n",
    "tree_model.fit(X_train,y_train)"
   ]
  },
  {
   "cell_type": "code",
   "execution_count": 17,
   "metadata": {},
   "outputs": [
    {
     "output_type": "stream",
     "name": "stdout",
     "text": [
      "['N' 'N' 'N' 'Y' 'N' 'N' 'N' 'N' 'Y' 'Y' 'N' 'Y' 'N' 'N' 'N' 'N' 'N' 'N'\n 'N' 'N' 'N' 'N' 'Y' 'Y' 'N' 'N' 'N' 'N' 'N' 'N' 'N' 'Y' 'N' 'N' 'N' 'N'\n 'N' 'N' 'N' 'N' 'N' 'N' 'Y' 'N' 'N' 'N' 'Y' 'N' 'N' 'N' 'N' 'N' 'N' 'N'\n 'N' 'N' 'N' 'N' 'N' 'Y']\n"
     ]
    }
   ],
   "source": [
    "# Tester le modèle\n",
    "#Le test de votre modèle est également facilité grâce aux bibliothèques que nous avons importées. Le test du modèle est semblable à faire l’examen. Vous fournirez X_test (20 % des données d’entrée que vous avez réservées à des fins de test) à la fonction de predict() du classifieur. Cette fonction retourne une liste de Y et N qui représente ce que le modèle pense qu’il se passerait si une tentative de lancement de fusée avait eu lieu en fonction d’un ensemble particulier de conditions météorologiques.\n",
    "\n",
    "# Do prediction on test Data\n",
    "y_pred = tree_model.predict(X_test)\n",
    "print(y_pred)\n",
    "# Combien de Y avez-vous obtenu ? Les prédictions sont-elles représentatives des données qui ont été entrées ? Ce n’est pas clair sans autres investigations, mais jusqu’à présent, la sortie contient ~ 9 Y réponses de 60 valeurs d’entrée. Environ 20 % du total des données ont généré un Y. Ce pourcentage représente environ 15 % des données prédites, donc il est relativement proche."
   ]
  },
  {
   "cell_type": "code",
   "execution_count": 18,
   "metadata": {},
   "outputs": [
    {
     "output_type": "execute_result",
     "data": {
      "text/plain": [
       "0.9833333333333333"
      ]
     },
     "metadata": {},
     "execution_count": 18
    }
   ],
   "source": [
    "# Une comparaison simple du pourcentage de données qui a abouti à un lancement de Y est utile pour vérifier si le modèle est proche de la valeur correcte. Mais il est encore plus utile de noter réellement le modèle.\n",
    "\n",
    "#Noter le modèle\n",
    "#Comme pour un examen, l’apprentissage peut être mesuré à l’aide d’une note. Il existe une fonction à une seule ligne que vous pouvez appeler pour voir le degré de précision du modèle pour prédire si un lancement se produirait\n",
    "# Calculate accuracy\n",
    "tree_model.score(X_test,y_test)\n",
    "# À l’aide de la fonction score() , vous transmettez les données d’entrée X_test et les données de sortie y_test pour « noter » le modèle. Plus la note est élevée, plus notre modèle est précis pour prédire le résultat d’un lancement de fusée basé sur les données météorologiques\n",
    "\n",
    "\n",
    "#Comprendre la note\n",
    "#Dans cet exemple, le modèle a une précision de 98,3%, ce qui est bien. En fait, avec la petite quantité de nettoyage et de manipulation de données que nous avons faits et avec les problèmes connus des données, cela semble un peu trop bien.\n",
    "\n",
    "#Peut-être avons-nous les meilleures données et avons-nous correctement formé notre modèle pour obtenir des résultats précis. Mais peut-être que ce taux de précision signifie que nous sommes doués pour deviner ces données fabriquées, donc cette note ne serait pas fiable dans le monde réel. Pour le contexte, une précision de 70 % avec un classifieur d’arbre de décision (quand il est exécuté pour la première fois) est courante.\n",
    "\n",
    "\n",
    "\n",
    "#Comment pouvez-vous vous assurer que le score lui-même est une représentation exacte de la précision du modèle ?\n",
    "\n",
    "#L’une des méthodes consiste à demander à un expert de remplir les données Y et N pour les dates de non-lancement, au lieu de deviner simplement N. Par exemple, la probabilité que le jour juste avant ou après un lancement puisse également être un bon jour de lancement est probablement plus élevée que nous l’avons représenté dans ces données."
   ]
  },
  {
   "cell_type": "code",
   "execution_count": 19,
   "metadata": {},
   "outputs": [],
   "source": [
    "# visualiser le modèle Machine Learning\n",
    "\n",
    "# L’un des avantages de l’utilisation d’un classifieur d’arbre de décision est la visualisation que vous pouvez utiliser pour mieux comprendre comment le modèle prend des décisions. À l’aide de graphviz et pydotplus, vous pouvez rapidement voir comment une décision est prise. Dans les itérations à venir, vous pouvez voir comment les décisions sont modifiées.\n",
    "\n",
    "# Créer l’arborescence d’éléments visuels\n",
    "# Pour créer une représentation visuelle du modèle, vous allez créer une fonction qui prend en tant que paramètres :\n",
    "#   Données : tree - le modèle Machine Learning\n",
    "#   Colonnes : feature_names -une liste des colonnes dans les données d’entrée\n",
    "#   Sortie : class_names - une liste des options de classification (dans ce cas, oui ou non)\n",
    "#   Nom du fichier : png_file_to_save - le nom du fichier dans lequel vous souhaitez enregistrer la visualisation\n",
    "# Vous appelez la fonction export_graphviz() https://scikit-learn.org/stable/modules/generated/sklearn.tree.export_graphviz.html de Scikit-learn , puis vous retournez une représentation d’image du graphique que vous donne Scikit-learn.\n",
    "# Let's import a library for visualizing our decision tree.\n",
    "from sklearn.tree import export_graphviz\n",
    "\n",
    "def tree_graph_to_png(tree, feature_names,class_names, png_file_to_save):\n",
    "    tree_str = export_graphviz(tree, feature_names=feature_names, class_names=class_names,\n",
    "                                     filled=True, out_file=None)\n",
    "    graph = pydotplus.graph_from_dot_data(tree_str)  \n",
    "    return Image(graph.create_png())"
   ]
  },
  {
   "cell_type": "code",
   "execution_count": 20,
   "metadata": {},
   "outputs": [
    {
     "output_type": "execute_result",
     "data": {
      "image/png": "[encoded data removed]",
      "text/plain": [
       "<IPython.core.display.Image object>"
      ]
     },
     "metadata": {},
     "execution_count": 20
    }
   ],
   "source": [
    "# L’appel de cette fonction est relativement simple :\n",
    "#   Données : tree_model - le modèle que vous avez entraîné et testé précédemment\n",
    "#   Colonnes : X.columns.values - la liste des colonnes dans l’entrée\n",
    "#   Sortie : [yes,no] - les deux résultats possibles\n",
    "#   Nom du fichier : decision_tree.png - le nom du fichier dans lequel vous souhaitez enregistrer l’image\n",
    "# This function takes a machine learning model and visualizes it.\n",
    "tree_graph_to_png(tree=tree_model, feature_names=X.columns.values,class_names=['No Launch','Launch'], png_file_to_save='decision-tree.png')\n"
   ]
  },
  {
   "cell_type": "code",
   "execution_count": 21,
   "metadata": {},
   "outputs": [],
   "source": [
    "# Dans l’ensemble, lorsque nous examinons le jeu de données, nous avons 240 échantillons :\n",
    "\n",
    "#192 sont des non-lancements\n",
    "#48 sont des lancements\n",
    "#Ce résultat est dû à notre stratégie de nettoyage des données, où nous supposons que tous les jours non étiquetés sont #des jours sans lancement.\n",
    "\n",
    "#À l’aide des nouvelles étiquettes, nous pouvons dire « si la vitesse du vent était inférieure à 1,0, alors 191 des 240 échantillons ont deviné qu’aucun lancement n’était possible ce jour-là ». Ce résultat peut paraître étrange, mais en fonction des données, il est correct. Voici les preuves : Nous avons tracé la distribution de lancement et de non-lancement pour les jours pendant lesquels la vitesse du vent au moment du lancement < = 1 avant de supprimer la colonne plus haut dans ce notebook. Elle montre que, pour presque toutes les périodes, nous ne lançons pas."
   ]
  },
  {
   "cell_type": "code",
   "execution_count": 22,
   "metadata": {},
   "outputs": [
    {
     "output_type": "execute_result",
     "data": {
      "text/plain": [
       "     Crewed or Uncrewed  High Temp  Low Temp  Ave Temp  Temp at Launch Time  \\\n",
       "292                   0       86.0      70.0     75.02                 74.0   \n",
       "\n",
       "     Hist High Temp  Hist Low Temp  Hist Ave Temp  \\\n",
       "292            87.0           70.0           79.0   \n",
       "\n",
       "     Percipitation at Launch Time  Hist Ave Percipitation  Wind Direction  \\\n",
       "292                          0.28                    0.15               4   \n",
       "\n",
       "     Max Wind Speed  Visibility  Wind Speed at Launch Time  Condition  \n",
       "292            32.0        10.0                       25.0          2  "
      ],
      "text/html": "<div>\n<style scoped>\n    .dataframe tbody tr th:only-of-type {\n        vertical-align: middle;\n    }\n\n    .dataframe tbody tr th {\n        vertical-align: top;\n    }\n\n    .dataframe thead th {\n        text-align: right;\n    }\n</style>\n<table border=\"1\" class=\"dataframe\">\n  <thead>\n    <tr style=\"text-align: right;\">\n      <th></th>\n      <th>Crewed or Uncrewed</th>\n      <th>High Temp</th>\n      <th>Low Temp</th>\n      <th>Ave Temp</th>\n      <th>Temp at Launch Time</th>\n      <th>Hist High Temp</th>\n      <th>Hist Low Temp</th>\n      <th>Hist Ave Temp</th>\n      <th>Percipitation at Launch Time</th>\n      <th>Hist Ave Percipitation</th>\n      <th>Wind Direction</th>\n      <th>Max Wind Speed</th>\n      <th>Visibility</th>\n      <th>Wind Speed at Launch Time</th>\n      <th>Condition</th>\n    </tr>\n  </thead>\n  <tbody>\n    <tr>\n      <th>292</th>\n      <td>0</td>\n      <td>86.0</td>\n      <td>70.0</td>\n      <td>75.02</td>\n      <td>74.0</td>\n      <td>87.0</td>\n      <td>70.0</td>\n      <td>79.0</td>\n      <td>0.28</td>\n      <td>0.15</td>\n      <td>4</td>\n      <td>32.0</td>\n      <td>10.0</td>\n      <td>25.0</td>\n      <td>2</td>\n    </tr>\n  </tbody>\n</table>\n</div>"
     },
     "metadata": {},
     "execution_count": 22
    }
   ],
   "source": [
    "#Comprendre la visualisation\n",
    "#Cette arborescence simple vous montre que la fonctionnalité la plus importante des données était Wind Speed at Launch Time. Si la vitesse du vent était inférieure à 1,0, alors 191 des 240 échantillons ont été correctement identifiés comme des sans lancement. Nous voyons que 191 de ces échantillons nécessitaient seulement que la valeur Wind Speed at Launch Time soit inférieure à 1,0 pour deviner correctement les résultats, alors que les valeurs de plus de 1,0 ne nécessitaient plus d’informations.\n",
    "\n",
    "#Cet aperçu n’est pas bon. Nous avons précédemment défini toutes les valeurs qui étaient vides à 0. Nous savons également que la plupart des valeurs qui ont été associées à l’heure de lancement étaient 0 car 60 % de nos données n’étaient pas liées à un lancement ou une tentative de lancement réel.\n",
    "\n",
    "#À mesure que vous continuez à examiner l’arborescence, vous pouvez voir que Max Wind Speed est la seconde fonctionnalité la plus importante des données. Ici, vous pouvez voir que les 49 jours restants lorsque la vitesse maximale du vent était inférieure à 30,5, 48 des jours ont généré une sortie de lancement correcte et que l’une d’entre elles générait une sortie sans lancement.\n",
    "\n",
    "#Ces données peuvent être plus intéressantes avec un contexte réel. Il n’y avait qu’un seul jour où un lancement était planifié et la valeur Max Wind Speed était supérieure à 30,5, le 27 mai 2020. Le lancement de Space X Dragon a été reporté au 30 mai 2020. Voici les preuves :\n",
    "launch_data[(launch_data['Wind Speed at Launch Time'] > 1) & (launch_data['Max Wind Speed'] > 30.5)]\n",
    "\n",
    "# Améliorer les résultats\n",
    "#Avec cette visualisation, vous pouvez constater que certains composants sont devenus importants. Mais cette mise en évidence reposait sur des informations incorrectes.\n",
    "\n",
    "#L’une des améliorations apportées consiste à déterminer la relation entre Max Wind Speed et Wind Speed at Launch Time pour les lignes qui contiennent ces informations. Ensuite, au lieu d’effectuer Wind Speed at Launch Time 0 pour les jours sans lancement, il aurait été possible d’obtenir l’estimation de ce qui se passerait au moment d’un lancement standard. Cette modification a peut-être mieux représenté les données.\n",
    "\n",
    "#Pouvez-vous envisager d’autres méthodes pour améliorer les données ?"
   ]
  },
  {
   "cell_type": "code",
   "execution_count": 23,
   "metadata": {},
   "outputs": [
    {
     "output_type": "execute_result",
     "data": {
      "text/plain": [
       "array(['N'], dtype=object)"
      ]
     },
     "metadata": {},
     "execution_count": 23
    }
   ],
   "source": [
    "# Exercice : prédire la réussite d’un lancement de fusée à l’aide de Machine Learning\n",
    "\n",
    "#Enfin, il est temps de tester votre modèle avec des données qui n’ont jamais été trouvées dans votre jeu de données.\n",
    "#Le 30 juillet 2020, la NASA a lancé le rover Perseverance vers Mars à partir du Cap Canaveral à 7:50 AM est.\n",
    "#Collectez les données d’entrée pour le modèle :\n",
    "\n",
    "#Équipage ou sans équipage\n",
    "#Temp élevé\n",
    "#Temp faible\n",
    "#Temp moyenne\n",
    "#Temp au moment du lancement\n",
    "#Temp élevée historique\n",
    "#Temp faible historique\n",
    "#Temp moyenne historique\n",
    "#Précipitation au moment du lancement\n",
    "#Historique des précipitations moyennes\n",
    "#Sens du vent\n",
    "#Pointes de vent maximales\n",
    "#Visibilité\n",
    "#Vitesse du vent au moment du lancement\n",
    "#Vitesse du vent max. hist moy.\n",
    "#Historique de la visibilité moyenne\n",
    "#Condition\n",
    "#Vous pouvez trouver ces informations sur la plupart des sites météo. N’oubliez pas que les données doivent toutes être numériques.\n",
    "\n",
    "#L’exemple suivant utilise des données hypothétiques :\n",
    "# ['Crewed or Uncrewed', 'High Temp', 'Low Temp', 'Ave Temp',\n",
    "#        'Temp at Launch Time', 'Hist High Temp', 'Hist Low Temp',\n",
    "#        'Hist Ave Temp', 'Precipitation at Launch Time',\n",
    "#        'Hist Ave Precipitation', 'Wind Direction', 'Max Wind Speed',\n",
    "#        'Visibility', 'Wind Speed at Launch Time', 'Hist Ave Max Wind Speed',\n",
    "#        'Hist Ave Visibility', 'Condition']\n",
    "\n",
    "data_input = [ 1.  , 75.  , 68.  , 71.  ,  0.  , 75.  , 55.  , 65.  ,  0.  , 0.08,  0.  , 16.  , 15.  ,  0.  ,  0. ]\n",
    "\n",
    "tree_model.predict([data_input])\n",
    "\n",
    "# Continuer à améliorer\n",
    "#À mesure que vous continuez à améliorer votre modèle en procédant de la manière décrite dans ce parcours d’apprentissage, gardez un œil sur d’autres lancements de fusée de la NASA . Vérifiez si votre modèle peut prédire les résultats avec précision.\n",
    "\n",
    "#Vous pouvez également utiliser des prédictions météorologiques combinées à votre modèle Machine Learning pour voir si vous pouvez prédire si un délai est nécessaire avant que les lancements ne se produisent !"
   ]
  },
  {
   "cell_type": "code",
   "execution_count": null,
   "metadata": {},
   "outputs": [],
   "source": []
  }
 ]
}