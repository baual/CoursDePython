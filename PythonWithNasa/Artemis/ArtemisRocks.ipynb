{
 "metadata": {
  "language_info": {
   "codemirror_mode": {
    "name": "ipython",
    "version": 3
   },
   "file_extension": ".py",
   "mimetype": "text/x-python",
   "name": "python",
   "nbconvert_exporter": "python",
   "pygments_lexer": "ipython3",
   "version": "3.7.9-final"
  },
  "orig_nbformat": 2,
  "kernelspec": {
   "name": "Python 3.7.9 64-bit ('myenv': conda)",
   "display_name": "Python 3.7.9 64-bit ('myenv': conda)",
   "metadata": {
    "interpreter": {
     "hash": "afbc5c225ca83cdaa757117cad19c1853a4d83de9469aa47f0313fe7bc8c10de"
    }
   }
  }
 },
 "nbformat": 4,
 "nbformat_minor": 2,
 "cells": [
  {
   "cell_type": "code",
   "execution_count": null,
   "metadata": {},
   "outputs": [],
   "source": [
    "# Integer Variable\n",
    "numberOfRocks = 5\n",
    "\n",
    "# Float Variable\n",
    "tempInSpace = -457.87\n",
    "\n",
    "# String Variable\n",
    "roverName = \"Artemis Rover\"\n",
    "\n",
    "# Boolean Variable\n",
    "rocketOn = False"
   ]
  },
  {
   "cell_type": "code",
   "execution_count": null,
   "metadata": {},
   "outputs": [],
   "source": [
    "roverName"
   ]
  },
  {
   "cell_type": "code",
   "execution_count": null,
   "metadata": {},
   "outputs": [],
   "source": [
    "# Find out how many miles until rocket reaches moon\n",
    "distanceToMoon = 238855\n",
    "distanceTraveled = 10234\n",
    "distanceToMoon - distanceTraveled"
   ]
  },
  {
   "cell_type": "code",
   "execution_count": null,
   "metadata": {},
   "outputs": [],
   "source": [
    "# Find out how many miles until rocket reaches moon\n",
    "a = 238855\n",
    "b = 10234\n",
    "a - b"
   ]
  },
  {
   "cell_type": "code",
   "execution_count": null,
   "metadata": {},
   "outputs": [],
   "source": [
    "rocketOutput = \"rOckEt iS A laUncH!\"\n",
    "rocketOutput.capitalize()"
   ]
  },
  {
   "cell_type": "code",
   "execution_count": null,
   "metadata": {},
   "outputs": [],
   "source": [
    "launchLocationCity = \"Cape Canaveral, \"\n",
    "launchLocationState = \"Florida\"\n",
    "\n",
    "launchLocationCity + launchLocationState"
   ]
  },
  {
   "cell_type": "code",
   "execution_count": null,
   "metadata": {},
   "outputs": [],
   "source": [
    "artemisRoverSounds = \"beep beep \"\n",
    "artemisRoverSounds * 3"
   ]
  },
  {
   "cell_type": "code",
   "execution_count": null,
   "metadata": {},
   "outputs": [],
   "source": [
    "numBasalt = 4\n",
    "print(\"The number of Basalt rocks found:\", numBasalt)"
   ]
  },
  {
   "cell_type": "code",
   "execution_count": null,
   "metadata": {},
   "outputs": [],
   "source": [
    "print(\"The number of Basalt rocks found:\"+ numBasalt)"
   ]
  },
  {
   "cell_type": "code",
   "execution_count": null,
   "metadata": {},
   "outputs": [],
   "source": [
    "temp = 50\n",
    "print(temp >= 32)\n",
    "print(temp < 32)"
   ]
  },
  {
   "cell_type": "code",
   "execution_count": null,
   "metadata": {},
   "outputs": [],
   "source": [
    "rock = \"basaltrock\"\n",
    "print(\"highland\" in rock)\n",
    "print(\"basalt\" in rock)"
   ]
  },
  {
   "cell_type": "code",
   "execution_count": null,
   "metadata": {},
   "outputs": [],
   "source": [
    "planets = \"Mars\",\"Saturn\", \"Jupiter\"\n",
    "\n",
    "for planet in planets:\n",
    "    print(planet)"
   ]
  },
  {
   "cell_type": "code",
   "execution_count": null,
   "metadata": {},
   "outputs": [],
   "source": []
  }
 ]
}